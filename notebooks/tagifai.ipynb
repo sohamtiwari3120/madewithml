{
 "cells": [
  {
   "cell_type": "markdown",
   "id": "90edec64-5fec-45e6-90fd-6822128b3888",
   "metadata": {},
   "source": [
    "# Data\n",
    "## EDA\n",
    "### Projects"
   ]
  },
  {
   "cell_type": "code",
   "execution_count": 1,
   "id": "d09043f5-0d68-4c28-b24a-492df6ec4e35",
   "metadata": {},
   "outputs": [],
   "source": [
    "from collections import Counter\n",
    "import ipywidgets as widgets\n",
    "import itertools\n",
    "import json\n",
    "import pandas as pd\n",
    "from urllib.request import urlopen"
   ]
  },
  {
   "cell_type": "code",
   "execution_count": 2,
   "id": "1a55ac30-bb34-4000-88d1-1da4684db70d",
   "metadata": {},
   "outputs": [
    {
     "name": "stdout",
     "output_type": "stream",
     "text": [
      "955 projects\n",
      "{\n",
      "  \"id\": 6,\n",
      "  \"created_on\": \"2020-02-20 06:43:18\",\n",
      "  \"title\": \"Comparison between YOLO and RCNN on real world videos\",\n",
      "  \"description\": \"Bringing theory to experiment is cool. We can easily train models in colab and find the results in minutes.\",\n",
      "  \"tag\": \"computer-vision\"\n",
      "}\n"
     ]
    }
   ],
   "source": [
    "# Load projects\n",
    "url = \"https://raw.githubusercontent.com/GokuMohandas/Made-With-ML/main/datasets/projects.json\"\n",
    "projects = json.loads(urlopen(url).read())\n",
    "print (f\"{len(projects)} projects\")\n",
    "print (json.dumps(projects[0], indent=2))"
   ]
  },
  {
   "cell_type": "code",
   "execution_count": 3,
   "id": "bdcc321e-3bf6-41d5-9e08-5e63d3f9d27f",
   "metadata": {},
   "outputs": [
    {
     "name": "stdout",
     "output_type": "stream",
     "text": [
      "955 projects\n"
     ]
    },
    {
     "data": {
      "text/html": [
       "<div>\n",
       "<style scoped>\n",
       "    .dataframe tbody tr th:only-of-type {\n",
       "        vertical-align: middle;\n",
       "    }\n",
       "\n",
       "    .dataframe tbody tr th {\n",
       "        vertical-align: top;\n",
       "    }\n",
       "\n",
       "    .dataframe thead th {\n",
       "        text-align: right;\n",
       "    }\n",
       "</style>\n",
       "<table border=\"1\" class=\"dataframe\">\n",
       "  <thead>\n",
       "    <tr style=\"text-align: right;\">\n",
       "      <th></th>\n",
       "      <th>id</th>\n",
       "      <th>created_on</th>\n",
       "      <th>title</th>\n",
       "      <th>description</th>\n",
       "      <th>tag</th>\n",
       "    </tr>\n",
       "  </thead>\n",
       "  <tbody>\n",
       "    <tr>\n",
       "      <th>0</th>\n",
       "      <td>6</td>\n",
       "      <td>2020-02-20 06:43:18</td>\n",
       "      <td>Comparison between YOLO and RCNN on real world...</td>\n",
       "      <td>Bringing theory to experiment is cool. We can ...</td>\n",
       "      <td>computer-vision</td>\n",
       "    </tr>\n",
       "    <tr>\n",
       "      <th>1</th>\n",
       "      <td>7</td>\n",
       "      <td>2020-02-20 06:47:21</td>\n",
       "      <td>Show, Infer &amp; Tell: Contextual Inference for C...</td>\n",
       "      <td>The beauty of the work lies in the way it arch...</td>\n",
       "      <td>computer-vision</td>\n",
       "    </tr>\n",
       "    <tr>\n",
       "      <th>2</th>\n",
       "      <td>9</td>\n",
       "      <td>2020-02-24 16:24:45</td>\n",
       "      <td>Awesome Graph Classification</td>\n",
       "      <td>A collection of important graph embedding, cla...</td>\n",
       "      <td>graph-learning</td>\n",
       "    </tr>\n",
       "    <tr>\n",
       "      <th>3</th>\n",
       "      <td>15</td>\n",
       "      <td>2020-02-28 23:55:26</td>\n",
       "      <td>Awesome Monte Carlo Tree Search</td>\n",
       "      <td>A curated list of Monte Carlo tree search pape...</td>\n",
       "      <td>reinforcement-learning</td>\n",
       "    </tr>\n",
       "    <tr>\n",
       "      <th>4</th>\n",
       "      <td>19</td>\n",
       "      <td>2020-03-03 13:54:31</td>\n",
       "      <td>Diffusion to Vector</td>\n",
       "      <td>Reference implementation of Diffusion2Vec (Com...</td>\n",
       "      <td>graph-learning</td>\n",
       "    </tr>\n",
       "  </tbody>\n",
       "</table>\n",
       "</div>"
      ],
      "text/plain": [
       "   id           created_on                                              title  \\\n",
       "0   6  2020-02-20 06:43:18  Comparison between YOLO and RCNN on real world...   \n",
       "1   7  2020-02-20 06:47:21  Show, Infer & Tell: Contextual Inference for C...   \n",
       "2   9  2020-02-24 16:24:45                       Awesome Graph Classification   \n",
       "3  15  2020-02-28 23:55:26                    Awesome Monte Carlo Tree Search   \n",
       "4  19  2020-03-03 13:54:31                                Diffusion to Vector   \n",
       "\n",
       "                                         description                     tag  \n",
       "0  Bringing theory to experiment is cool. We can ...         computer-vision  \n",
       "1  The beauty of the work lies in the way it arch...         computer-vision  \n",
       "2  A collection of important graph embedding, cla...          graph-learning  \n",
       "3  A curated list of Monte Carlo tree search pape...  reinforcement-learning  \n",
       "4  Reference implementation of Diffusion2Vec (Com...          graph-learning  "
      ]
     },
     "execution_count": 3,
     "metadata": {},
     "output_type": "execute_result"
    }
   ],
   "source": [
    "# Create dataframe\n",
    "df = pd.DataFrame(projects)\n",
    "print (f\"{len(df)} projects\")\n",
    "df.head(5)"
   ]
  },
  {
   "cell_type": "code",
   "execution_count": 4,
   "id": "80183c7f-14e7-421a-95a8-b7a886b564de",
   "metadata": {},
   "outputs": [],
   "source": [
    "# 1. remove projects with no tag\n",
    "df = df[df.tag.notnull()]"
   ]
  },
  {
   "cell_type": "code",
   "execution_count": 5,
   "id": "3c0ee844-175e-4a84-961e-bbbb51cfab3f",
   "metadata": {},
   "outputs": [
    {
     "data": {
      "text/plain": [
       "[('natural-language-processing', 388),\n",
       " ('computer-vision', 356),\n",
       " ('mlops', 79),\n",
       " ('reinforcement-learning', 56),\n",
       " ('graph-learning', 45),\n",
       " ('time-series', 31)]"
      ]
     },
     "execution_count": 5,
     "metadata": {},
     "output_type": "execute_result"
    }
   ],
   "source": [
    "# 2. Most common tags\n",
    "tags = Counter(df.tag.values)\n",
    "tags.most_common()"
   ]
  },
  {
   "cell_type": "markdown",
   "id": "9332a448-47cc-4e84-9e07-163cb9ba0321",
   "metadata": {},
   "source": [
    "### Tags"
   ]
  },
  {
   "cell_type": "code",
   "execution_count": 6,
   "id": "112479a3-cd55-49f9-9d66-17a1c3649559",
   "metadata": {},
   "outputs": [
    {
     "name": "stdout",
     "output_type": "stream",
     "text": [
      "4 tags\n"
     ]
    }
   ],
   "source": [
    "# Load tags\n",
    "url = \"https://raw.githubusercontent.com/GokuMohandas/Made-With-ML/main/datasets/tags.json\"\n",
    "tags_dict = {}\n",
    "for item in json.loads(urlopen(url).read()):\n",
    "    key = item.pop(\"tag\")\n",
    "    tags_dict[key] = item\n",
    "print (f\"{len(tags_dict)} tags\")\n"
   ]
  },
  {
   "cell_type": "code",
   "execution_count": 7,
   "id": "9c92bffe-8009-4101-ab11-b9a038f94265",
   "metadata": {},
   "outputs": [
    {
     "data": {
      "application/vnd.jupyter.widget-view+json": {
       "model_id": "e2f1d41ee9684ca79797ffef4a8d6e01",
       "version_major": 2,
       "version_minor": 0
      },
      "text/plain": [
       "interactive(children=(Dropdown(description='tag', options=('computer-vision', 'graph-learning', 'mlops', 'natu…"
      ]
     },
     "metadata": {},
     "output_type": "display_data"
    }
   ],
   "source": [
    "@widgets.interact(tag=list(tags_dict.keys()))\n",
    "def display_tag_details(tag=\"computer-vision\"):\n",
    "    print (json.dumps(tags_dict[tag], indent=2))\n"
   ]
  },
  {
   "cell_type": "code",
   "execution_count": 8,
   "id": "5391e66d-ea27-43b8-848f-63215eeacc4c",
   "metadata": {},
   "outputs": [],
   "source": [
    "import matplotlib.pyplot as plt\n",
    "import seaborn as sns\n",
    "import warnings\n",
    "from wordcloud import WordCloud, STOPWORDS\n",
    "sns.set_theme()\n",
    "warnings.filterwarnings(\"ignore\")"
   ]
  },
  {
   "cell_type": "markdown",
   "id": "009836a2-f1fc-4b21-9510-444c07ddfa55",
   "metadata": {},
   "source": [
    "### Tag Distribution"
   ]
  },
  {
   "cell_type": "code",
   "execution_count": 9,
   "id": "b89542fe-88ce-457d-b64e-a2840f08af07",
   "metadata": {},
   "outputs": [
    {
     "data": {
      "image/png": "[encoded data removed]",
      "text/plain": [
       "<Figure size 720x216 with 1 Axes>"
      ]
     },
     "metadata": {},
     "output_type": "display_data"
    }
   ],
   "source": [
    "tags, tag_counts = zip(*Counter(df.tag.values).most_common())\n",
    "plt.figure(figsize=(10, 3))\n",
    "ax = sns.barplot(list(tags), list(tag_counts))\n",
    "plt.title(\"Tag distribution\", fontsize=20)\n",
    "plt.xlabel(\"Tag\", fontsize=16)\n",
    "ax.set_xticklabels(tags, rotation=90, fontsize=14)\n",
    "plt.ylabel(\"Number of projects\", fontsize=16)\n",
    "plt.show()"
   ]
  },
  {
   "cell_type": "markdown",
   "id": "4602d206-8e45-429d-9623-6f39d8b2d843",
   "metadata": {},
   "source": [
    "### Wordcloud"
   ]
  },
  {
   "cell_type": "code",
   "execution_count": 10,
   "id": "9c093183-7b0d-4fd1-850e-4ee6036f5273",
   "metadata": {},
   "outputs": [
    {
     "data": {
      "application/vnd.jupyter.widget-view+json": {
       "model_id": "4b463be1bfcb4c1b9a90f808e7ec61f5",
       "version_major": 2,
       "version_minor": 0
      },
      "text/plain": [
       "interactive(children=(Dropdown(description='tag', options=('natural-language-processing', 'computer-vision', '…"
      ]
     },
     "metadata": {},
     "output_type": "display_data"
    }
   ],
   "source": [
    "@widgets.interact(tag=list(tags))\n",
    "def display_word_cloud(tag=\"natural-language-processing\", column_name = 'title'):\n",
    "    plt.figure(figsize=(15, 5))\n",
    "    subset = df[df.tag == tag]\n",
    "    text = subset[column_name].values\n",
    "    cloud = WordCloud(\n",
    "        stopwords=STOPWORDS, background_color=\"black\", collocations=False,\n",
    "        width=500, height=300).generate(\" \".join(text))\n",
    "    plt.axis(\"off\")\n",
    "    plt.imshow(cloud)\n",
    "    "
   ]
  },
  {
   "cell_type": "markdown",
   "id": "490ecc0c-7da3-4d0a-846b-f7121d41bce8",
   "metadata": {},
   "source": [
    "## Data Labeling\n",
    "- if a data point has a tag that we currently don't support, we'll replace it with `other`\n",
    "- if a certain tag doesn't have enough samples, we'll replace it with `other`"
   ]
  },
  {
   "cell_type": "code",
   "execution_count": 11,
   "id": "9013fa95",
   "metadata": {},
   "outputs": [
    {
     "data": {
      "text/plain": [
       "['reinforcement-learning', 'time-series']"
      ]
     },
     "execution_count": 11,
     "metadata": {},
     "output_type": "execute_result"
    }
   ],
   "source": [
    "# Out of scope (OOS) tags \n",
    "oos_tags = [item for item in df.tag.unique() if item not in tags_dict.keys()]\n",
    "oos_tags"
   ]
  },
  {
   "cell_type": "code",
   "execution_count": 12,
   "id": "4d866827",
   "metadata": {},
   "outputs": [
    {
     "data": {
      "text/html": [
       "<div>\n",
       "<style scoped>\n",
       "    .dataframe tbody tr th:only-of-type {\n",
       "        vertical-align: middle;\n",
       "    }\n",
       "\n",
       "    .dataframe tbody tr th {\n",
       "        vertical-align: top;\n",
       "    }\n",
       "\n",
       "    .dataframe thead th {\n",
       "        text-align: right;\n",
       "    }\n",
       "</style>\n",
       "<table border=\"1\" class=\"dataframe\">\n",
       "  <thead>\n",
       "    <tr style=\"text-align: right;\">\n",
       "      <th></th>\n",
       "      <th>id</th>\n",
       "      <th>created_on</th>\n",
       "      <th>title</th>\n",
       "      <th>description</th>\n",
       "      <th>tag</th>\n",
       "    </tr>\n",
       "  </thead>\n",
       "  <tbody>\n",
       "    <tr>\n",
       "      <th>3</th>\n",
       "      <td>15</td>\n",
       "      <td>2020-02-28 23:55:26</td>\n",
       "      <td>Awesome Monte Carlo Tree Search</td>\n",
       "      <td>A curated list of Monte Carlo tree search pape...</td>\n",
       "      <td>reinforcement-learning</td>\n",
       "    </tr>\n",
       "    <tr>\n",
       "      <th>37</th>\n",
       "      <td>121</td>\n",
       "      <td>2020-03-24 04:56:38</td>\n",
       "      <td>Deep Reinforcement Learning in TensorFlow2</td>\n",
       "      <td>deep-rl-tf2 is a repository that implements a ...</td>\n",
       "      <td>reinforcement-learning</td>\n",
       "    </tr>\n",
       "    <tr>\n",
       "      <th>67</th>\n",
       "      <td>218</td>\n",
       "      <td>2020-04-06 11:29:57</td>\n",
       "      <td>Distributional RL using TensorFlow2</td>\n",
       "      <td>🐳 Implementation of various Distributional Rei...</td>\n",
       "      <td>reinforcement-learning</td>\n",
       "    </tr>\n",
       "    <tr>\n",
       "      <th>74</th>\n",
       "      <td>239</td>\n",
       "      <td>2020-04-06 18:39:48</td>\n",
       "      <td>Prophet: Forecasting At Scale</td>\n",
       "      <td>Tool for producing high quality forecasts for ...</td>\n",
       "      <td>time-series</td>\n",
       "    </tr>\n",
       "    <tr>\n",
       "      <th>95</th>\n",
       "      <td>277</td>\n",
       "      <td>2020-04-07 00:30:33</td>\n",
       "      <td>Curriculum for Reinforcement Learning</td>\n",
       "      <td>Curriculum learning applied to reinforcement l...</td>\n",
       "      <td>reinforcement-learning</td>\n",
       "    </tr>\n",
       "  </tbody>\n",
       "</table>\n",
       "</div>"
      ],
      "text/plain": [
       "     id           created_on                                       title  \\\n",
       "3    15  2020-02-28 23:55:26             Awesome Monte Carlo Tree Search   \n",
       "37  121  2020-03-24 04:56:38  Deep Reinforcement Learning in TensorFlow2   \n",
       "67  218  2020-04-06 11:29:57         Distributional RL using TensorFlow2   \n",
       "74  239  2020-04-06 18:39:48               Prophet: Forecasting At Scale   \n",
       "95  277  2020-04-07 00:30:33       Curriculum for Reinforcement Learning   \n",
       "\n",
       "                                          description                     tag  \n",
       "3   A curated list of Monte Carlo tree search pape...  reinforcement-learning  \n",
       "37  deep-rl-tf2 is a repository that implements a ...  reinforcement-learning  \n",
       "67  🐳 Implementation of various Distributional Rei...  reinforcement-learning  \n",
       "74  Tool for producing high quality forecasts for ...             time-series  \n",
       "95  Curriculum learning applied to reinforcement l...  reinforcement-learning  "
      ]
     },
     "execution_count": 12,
     "metadata": {},
     "output_type": "execute_result"
    }
   ],
   "source": [
    "oos_indices = df[df.tag.isin(oos_tags)].index\n",
    "df.iloc[oos_indices].head()"
   ]
  },
  {
   "cell_type": "code",
   "execution_count": 13,
   "id": "0bde303b",
   "metadata": {},
   "outputs": [],
   "source": [
    "df.loc[oos_indices, ['tag']] = [\"other\"]"
   ]
  },
  {
   "cell_type": "code",
   "execution_count": 14,
   "id": "903a07a8",
   "metadata": {},
   "outputs": [
    {
     "data": {
      "text/html": [
       "<div>\n",
       "<style scoped>\n",
       "    .dataframe tbody tr th:only-of-type {\n",
       "        vertical-align: middle;\n",
       "    }\n",
       "\n",
       "    .dataframe tbody tr th {\n",
       "        vertical-align: top;\n",
       "    }\n",
       "\n",
       "    .dataframe thead th {\n",
       "        text-align: right;\n",
       "    }\n",
       "</style>\n",
       "<table border=\"1\" class=\"dataframe\">\n",
       "  <thead>\n",
       "    <tr style=\"text-align: right;\">\n",
       "      <th></th>\n",
       "      <th>id</th>\n",
       "      <th>created_on</th>\n",
       "      <th>title</th>\n",
       "      <th>description</th>\n",
       "      <th>tag</th>\n",
       "    </tr>\n",
       "  </thead>\n",
       "  <tbody>\n",
       "    <tr>\n",
       "      <th>0</th>\n",
       "      <td>6</td>\n",
       "      <td>2020-02-20 06:43:18</td>\n",
       "      <td>Comparison between YOLO and RCNN on real world...</td>\n",
       "      <td>Bringing theory to experiment is cool. We can ...</td>\n",
       "      <td>computer-vision</td>\n",
       "    </tr>\n",
       "    <tr>\n",
       "      <th>1</th>\n",
       "      <td>7</td>\n",
       "      <td>2020-02-20 06:47:21</td>\n",
       "      <td>Show, Infer &amp; Tell: Contextual Inference for C...</td>\n",
       "      <td>The beauty of the work lies in the way it arch...</td>\n",
       "      <td>computer-vision</td>\n",
       "    </tr>\n",
       "    <tr>\n",
       "      <th>2</th>\n",
       "      <td>9</td>\n",
       "      <td>2020-02-24 16:24:45</td>\n",
       "      <td>Awesome Graph Classification</td>\n",
       "      <td>A collection of important graph embedding, cla...</td>\n",
       "      <td>graph-learning</td>\n",
       "    </tr>\n",
       "    <tr>\n",
       "      <th>3</th>\n",
       "      <td>15</td>\n",
       "      <td>2020-02-28 23:55:26</td>\n",
       "      <td>Awesome Monte Carlo Tree Search</td>\n",
       "      <td>A curated list of Monte Carlo tree search pape...</td>\n",
       "      <td>other</td>\n",
       "    </tr>\n",
       "    <tr>\n",
       "      <th>4</th>\n",
       "      <td>19</td>\n",
       "      <td>2020-03-03 13:54:31</td>\n",
       "      <td>Diffusion to Vector</td>\n",
       "      <td>Reference implementation of Diffusion2Vec (Com...</td>\n",
       "      <td>graph-learning</td>\n",
       "    </tr>\n",
       "  </tbody>\n",
       "</table>\n",
       "</div>"
      ],
      "text/plain": [
       "   id           created_on                                              title  \\\n",
       "0   6  2020-02-20 06:43:18  Comparison between YOLO and RCNN on real world...   \n",
       "1   7  2020-02-20 06:47:21  Show, Infer & Tell: Contextual Inference for C...   \n",
       "2   9  2020-02-24 16:24:45                       Awesome Graph Classification   \n",
       "3  15  2020-02-28 23:55:26                    Awesome Monte Carlo Tree Search   \n",
       "4  19  2020-03-03 13:54:31                                Diffusion to Vector   \n",
       "\n",
       "                                         description              tag  \n",
       "0  Bringing theory to experiment is cool. We can ...  computer-vision  \n",
       "1  The beauty of the work lies in the way it arch...  computer-vision  \n",
       "2  A collection of important graph embedding, cla...   graph-learning  \n",
       "3  A curated list of Monte Carlo tree search pape...            other  \n",
       "4  Reference implementation of Diffusion2Vec (Com...   graph-learning  "
      ]
     },
     "execution_count": 14,
     "metadata": {},
     "output_type": "execute_result"
    }
   ],
   "source": [
    "df.head()"
   ]
  },
  {
   "cell_type": "code",
   "execution_count": 15,
   "id": "c99ce535",
   "metadata": {},
   "outputs": [
    {
     "name": "stdout",
     "output_type": "stream",
     "text": [
      "Counter({'natural-language-processing': 388, 'computer-vision': 356, 'other': 87, 'mlops': 79, 'graph-learning': 45})\n"
     ]
    }
   ],
   "source": [
    "min_freq = 75\n",
    "tags = Counter(df.tag.values)\n",
    "print(tags)"
   ]
  },
  {
   "cell_type": "code",
   "execution_count": 16,
   "id": "e447fdaa",
   "metadata": {},
   "outputs": [
    {
     "data": {
      "application/vnd.jupyter.widget-view+json": {
       "model_id": "68c7f11ca6a843bf97a2f9ee097a6cb2",
       "version_major": 2,
       "version_minor": 0
      },
      "text/plain": [
       "interactive(children=(IntSlider(value=75, description='min_freq', max=389), Output()), _dom_classes=('widget-i…"
      ]
     },
     "metadata": {},
     "output_type": "display_data"
    }
   ],
   "source": [
    "@widgets.interact(min_freq=(0, tags.most_common()[0][1]+1))\n",
    "def separate_tags_by_feq(min_freq=min_freq):\n",
    "    tags_above_freq = Counter(tag for tag in tags.elements() if tags[tag] >= min_freq)\n",
    "    tags_below_freq = Counter(tag for tag in tags.elements() if tags[tag] < min_freq)\n",
    "    print (\"Most popular tags:\\n\", tags_above_freq.most_common(3))\n",
    "    print (\"\\nTags that just made the cut:\\n\", tags_above_freq.most_common()[-3:])\n",
    "    print (\"\\nTags that just missed the cut:\\n\", tags_below_freq.most_common(3))"
   ]
  },
  {
   "cell_type": "code",
   "execution_count": 17,
   "id": "fb1a281f",
   "metadata": {},
   "outputs": [],
   "source": [
    "def filter(tag, include=[]):\n",
    "    \"\"\"Determine if a given tag is to be included\n",
    "\n",
    "    Args:\n",
    "        tag (_type_): _description_\n",
    "        include (list, optional): _description_. Defaults to [].\n",
    "    \"\"\"    \n",
    "    if tag in include:\n",
    "        return tag"
   ]
  },
  {
   "cell_type": "code",
   "execution_count": 18,
   "id": "83fb7294",
   "metadata": {},
   "outputs": [],
   "source": [
    "tags_above_freq = Counter(tag for tag in tags.elements() if tags[tag] >= min_freq)\n",
    "df.tag = df.tag.apply(filter, include=list(tags_above_freq.keys()))"
   ]
  },
  {
   "cell_type": "code",
   "execution_count": 19,
   "id": "0bd6edf3",
   "metadata": {},
   "outputs": [
    {
     "data": {
      "text/html": [
       "<div>\n",
       "<style scoped>\n",
       "    .dataframe tbody tr th:only-of-type {\n",
       "        vertical-align: middle;\n",
       "    }\n",
       "\n",
       "    .dataframe tbody tr th {\n",
       "        vertical-align: top;\n",
       "    }\n",
       "\n",
       "    .dataframe thead th {\n",
       "        text-align: right;\n",
       "    }\n",
       "</style>\n",
       "<table border=\"1\" class=\"dataframe\">\n",
       "  <thead>\n",
       "    <tr style=\"text-align: right;\">\n",
       "      <th></th>\n",
       "      <th>id</th>\n",
       "      <th>created_on</th>\n",
       "      <th>title</th>\n",
       "      <th>description</th>\n",
       "      <th>tag</th>\n",
       "    </tr>\n",
       "  </thead>\n",
       "  <tbody>\n",
       "    <tr>\n",
       "      <th>0</th>\n",
       "      <td>6</td>\n",
       "      <td>2020-02-20 06:43:18</td>\n",
       "      <td>Comparison between YOLO and RCNN on real world...</td>\n",
       "      <td>Bringing theory to experiment is cool. We can ...</td>\n",
       "      <td>computer-vision</td>\n",
       "    </tr>\n",
       "    <tr>\n",
       "      <th>1</th>\n",
       "      <td>7</td>\n",
       "      <td>2020-02-20 06:47:21</td>\n",
       "      <td>Show, Infer &amp; Tell: Contextual Inference for C...</td>\n",
       "      <td>The beauty of the work lies in the way it arch...</td>\n",
       "      <td>computer-vision</td>\n",
       "    </tr>\n",
       "    <tr>\n",
       "      <th>2</th>\n",
       "      <td>9</td>\n",
       "      <td>2020-02-24 16:24:45</td>\n",
       "      <td>Awesome Graph Classification</td>\n",
       "      <td>A collection of important graph embedding, cla...</td>\n",
       "      <td>None</td>\n",
       "    </tr>\n",
       "    <tr>\n",
       "      <th>3</th>\n",
       "      <td>15</td>\n",
       "      <td>2020-02-28 23:55:26</td>\n",
       "      <td>Awesome Monte Carlo Tree Search</td>\n",
       "      <td>A curated list of Monte Carlo tree search pape...</td>\n",
       "      <td>other</td>\n",
       "    </tr>\n",
       "    <tr>\n",
       "      <th>4</th>\n",
       "      <td>19</td>\n",
       "      <td>2020-03-03 13:54:31</td>\n",
       "      <td>Diffusion to Vector</td>\n",
       "      <td>Reference implementation of Diffusion2Vec (Com...</td>\n",
       "      <td>None</td>\n",
       "    </tr>\n",
       "  </tbody>\n",
       "</table>\n",
       "</div>"
      ],
      "text/plain": [
       "   id           created_on                                              title  \\\n",
       "0   6  2020-02-20 06:43:18  Comparison between YOLO and RCNN on real world...   \n",
       "1   7  2020-02-20 06:47:21  Show, Infer & Tell: Contextual Inference for C...   \n",
       "2   9  2020-02-24 16:24:45                       Awesome Graph Classification   \n",
       "3  15  2020-02-28 23:55:26                    Awesome Monte Carlo Tree Search   \n",
       "4  19  2020-03-03 13:54:31                                Diffusion to Vector   \n",
       "\n",
       "                                         description              tag  \n",
       "0  Bringing theory to experiment is cool. We can ...  computer-vision  \n",
       "1  The beauty of the work lies in the way it arch...  computer-vision  \n",
       "2  A collection of important graph embedding, cla...             None  \n",
       "3  A curated list of Monte Carlo tree search pape...            other  \n",
       "4  Reference implementation of Diffusion2Vec (Com...             None  "
      ]
     },
     "execution_count": 19,
     "metadata": {},
     "output_type": "execute_result"
    }
   ],
   "source": [
    "df.head()"
   ]
  },
  {
   "cell_type": "code",
   "execution_count": 20,
   "id": "582f5808",
   "metadata": {},
   "outputs": [],
   "source": [
    "df.tag = df.tag.fillna(\"other\")"
   ]
  },
  {
   "cell_type": "code",
   "execution_count": 79,
   "id": "83315923",
   "metadata": {},
   "outputs": [],
   "source": [
    "# Save labeled data\n",
    "with open(\"labeled_projects.json\", \"w\") as fp:\n",
    "    json.dump(df.to_dict(orient=\"records\"), indent=2, fp=fp)\n"
   ]
  },
  {
   "cell_type": "code",
   "execution_count": 21,
   "id": "b32dd32e",
   "metadata": {},
   "outputs": [],
   "source": [
    "from snorkel.labeling import labeling_function\n",
    "\n",
    "@labeling_function()\n",
    "def contains_tensorflow(text):\n",
    "    condition = any(tag in text.lower() for tag in (\"tensorflow\", \"tf\"))\n",
    "    return \"tensorflow\" if condition else None"
   ]
  },
  {
   "cell_type": "markdown",
   "id": "2b2b4872",
   "metadata": {},
   "source": [
    "## Preprocessing"
   ]
  },
  {
   "cell_type": "markdown",
   "id": "87dd6d43",
   "metadata": {},
   "source": [
    "### Feature engineering"
   ]
  },
  {
   "cell_type": "code",
   "execution_count": 22,
   "id": "dec6d26c",
   "metadata": {},
   "outputs": [
    {
     "data": {
      "text/html": [
       "<div>\n",
       "<style scoped>\n",
       "    .dataframe tbody tr th:only-of-type {\n",
       "        vertical-align: middle;\n",
       "    }\n",
       "\n",
       "    .dataframe tbody tr th {\n",
       "        vertical-align: top;\n",
       "    }\n",
       "\n",
       "    .dataframe thead th {\n",
       "        text-align: right;\n",
       "    }\n",
       "</style>\n",
       "<table border=\"1\" class=\"dataframe\">\n",
       "  <thead>\n",
       "    <tr style=\"text-align: right;\">\n",
       "      <th></th>\n",
       "      <th>id</th>\n",
       "      <th>created_on</th>\n",
       "      <th>title</th>\n",
       "      <th>description</th>\n",
       "      <th>tag</th>\n",
       "    </tr>\n",
       "  </thead>\n",
       "  <tbody>\n",
       "    <tr>\n",
       "      <th>0</th>\n",
       "      <td>6</td>\n",
       "      <td>2020-02-20 06:43:18</td>\n",
       "      <td>Comparison between YOLO and RCNN on real world...</td>\n",
       "      <td>Bringing theory to experiment is cool. We can ...</td>\n",
       "      <td>computer-vision</td>\n",
       "    </tr>\n",
       "    <tr>\n",
       "      <th>1</th>\n",
       "      <td>7</td>\n",
       "      <td>2020-02-20 06:47:21</td>\n",
       "      <td>Show, Infer &amp; Tell: Contextual Inference for C...</td>\n",
       "      <td>The beauty of the work lies in the way it arch...</td>\n",
       "      <td>computer-vision</td>\n",
       "    </tr>\n",
       "    <tr>\n",
       "      <th>2</th>\n",
       "      <td>9</td>\n",
       "      <td>2020-02-24 16:24:45</td>\n",
       "      <td>Awesome Graph Classification</td>\n",
       "      <td>A collection of important graph embedding, cla...</td>\n",
       "      <td>other</td>\n",
       "    </tr>\n",
       "    <tr>\n",
       "      <th>3</th>\n",
       "      <td>15</td>\n",
       "      <td>2020-02-28 23:55:26</td>\n",
       "      <td>Awesome Monte Carlo Tree Search</td>\n",
       "      <td>A curated list of Monte Carlo tree search pape...</td>\n",
       "      <td>other</td>\n",
       "    </tr>\n",
       "    <tr>\n",
       "      <th>4</th>\n",
       "      <td>19</td>\n",
       "      <td>2020-03-03 13:54:31</td>\n",
       "      <td>Diffusion to Vector</td>\n",
       "      <td>Reference implementation of Diffusion2Vec (Com...</td>\n",
       "      <td>other</td>\n",
       "    </tr>\n",
       "  </tbody>\n",
       "</table>\n",
       "</div>"
      ],
      "text/plain": [
       "   id           created_on                                              title  \\\n",
       "0   6  2020-02-20 06:43:18  Comparison between YOLO and RCNN on real world...   \n",
       "1   7  2020-02-20 06:47:21  Show, Infer & Tell: Contextual Inference for C...   \n",
       "2   9  2020-02-24 16:24:45                       Awesome Graph Classification   \n",
       "3  15  2020-02-28 23:55:26                    Awesome Monte Carlo Tree Search   \n",
       "4  19  2020-03-03 13:54:31                                Diffusion to Vector   \n",
       "\n",
       "                                         description              tag  \n",
       "0  Bringing theory to experiment is cool. We can ...  computer-vision  \n",
       "1  The beauty of the work lies in the way it arch...  computer-vision  \n",
       "2  A collection of important graph embedding, cla...            other  \n",
       "3  A curated list of Monte Carlo tree search pape...            other  \n",
       "4  Reference implementation of Diffusion2Vec (Com...            other  "
      ]
     },
     "execution_count": 22,
     "metadata": {},
     "output_type": "execute_result"
    }
   ],
   "source": [
    "df.head()"
   ]
  },
  {
   "cell_type": "code",
   "execution_count": 23,
   "id": "94d7dd43",
   "metadata": {},
   "outputs": [],
   "source": [
    "df['text'] = df.title + \" \" + df.description"
   ]
  },
  {
   "cell_type": "code",
   "execution_count": 24,
   "id": "30d12bbd",
   "metadata": {},
   "outputs": [
    {
     "data": {
      "text/html": [
       "<div>\n",
       "<style scoped>\n",
       "    .dataframe tbody tr th:only-of-type {\n",
       "        vertical-align: middle;\n",
       "    }\n",
       "\n",
       "    .dataframe tbody tr th {\n",
       "        vertical-align: top;\n",
       "    }\n",
       "\n",
       "    .dataframe thead th {\n",
       "        text-align: right;\n",
       "    }\n",
       "</style>\n",
       "<table border=\"1\" class=\"dataframe\">\n",
       "  <thead>\n",
       "    <tr style=\"text-align: right;\">\n",
       "      <th></th>\n",
       "      <th>id</th>\n",
       "      <th>created_on</th>\n",
       "      <th>title</th>\n",
       "      <th>description</th>\n",
       "      <th>tag</th>\n",
       "      <th>text</th>\n",
       "    </tr>\n",
       "  </thead>\n",
       "  <tbody>\n",
       "    <tr>\n",
       "      <th>0</th>\n",
       "      <td>6</td>\n",
       "      <td>2020-02-20 06:43:18</td>\n",
       "      <td>Comparison between YOLO and RCNN on real world...</td>\n",
       "      <td>Bringing theory to experiment is cool. We can ...</td>\n",
       "      <td>computer-vision</td>\n",
       "      <td>Comparison between YOLO and RCNN on real world...</td>\n",
       "    </tr>\n",
       "    <tr>\n",
       "      <th>1</th>\n",
       "      <td>7</td>\n",
       "      <td>2020-02-20 06:47:21</td>\n",
       "      <td>Show, Infer &amp; Tell: Contextual Inference for C...</td>\n",
       "      <td>The beauty of the work lies in the way it arch...</td>\n",
       "      <td>computer-vision</td>\n",
       "      <td>Show, Infer &amp; Tell: Contextual Inference for C...</td>\n",
       "    </tr>\n",
       "    <tr>\n",
       "      <th>2</th>\n",
       "      <td>9</td>\n",
       "      <td>2020-02-24 16:24:45</td>\n",
       "      <td>Awesome Graph Classification</td>\n",
       "      <td>A collection of important graph embedding, cla...</td>\n",
       "      <td>other</td>\n",
       "      <td>Awesome Graph Classification A collection of i...</td>\n",
       "    </tr>\n",
       "    <tr>\n",
       "      <th>3</th>\n",
       "      <td>15</td>\n",
       "      <td>2020-02-28 23:55:26</td>\n",
       "      <td>Awesome Monte Carlo Tree Search</td>\n",
       "      <td>A curated list of Monte Carlo tree search pape...</td>\n",
       "      <td>other</td>\n",
       "      <td>Awesome Monte Carlo Tree Search A curated list...</td>\n",
       "    </tr>\n",
       "    <tr>\n",
       "      <th>4</th>\n",
       "      <td>19</td>\n",
       "      <td>2020-03-03 13:54:31</td>\n",
       "      <td>Diffusion to Vector</td>\n",
       "      <td>Reference implementation of Diffusion2Vec (Com...</td>\n",
       "      <td>other</td>\n",
       "      <td>Diffusion to Vector Reference implementation o...</td>\n",
       "    </tr>\n",
       "  </tbody>\n",
       "</table>\n",
       "</div>"
      ],
      "text/plain": [
       "   id           created_on                                              title  \\\n",
       "0   6  2020-02-20 06:43:18  Comparison between YOLO and RCNN on real world...   \n",
       "1   7  2020-02-20 06:47:21  Show, Infer & Tell: Contextual Inference for C...   \n",
       "2   9  2020-02-24 16:24:45                       Awesome Graph Classification   \n",
       "3  15  2020-02-28 23:55:26                    Awesome Monte Carlo Tree Search   \n",
       "4  19  2020-03-03 13:54:31                                Diffusion to Vector   \n",
       "\n",
       "                                         description              tag  \\\n",
       "0  Bringing theory to experiment is cool. We can ...  computer-vision   \n",
       "1  The beauty of the work lies in the way it arch...  computer-vision   \n",
       "2  A collection of important graph embedding, cla...            other   \n",
       "3  A curated list of Monte Carlo tree search pape...            other   \n",
       "4  Reference implementation of Diffusion2Vec (Com...            other   \n",
       "\n",
       "                                                text  \n",
       "0  Comparison between YOLO and RCNN on real world...  \n",
       "1  Show, Infer & Tell: Contextual Inference for C...  \n",
       "2  Awesome Graph Classification A collection of i...  \n",
       "3  Awesome Monte Carlo Tree Search A curated list...  \n",
       "4  Diffusion to Vector Reference implementation o...  "
      ]
     },
     "execution_count": 24,
     "metadata": {},
     "output_type": "execute_result"
    }
   ],
   "source": [
    "df.head()"
   ]
  },
  {
   "cell_type": "markdown",
   "id": "57e62028",
   "metadata": {},
   "source": [
    "### Cleaning"
   ]
  },
  {
   "cell_type": "code",
   "execution_count": 25,
   "id": "c37c0e69",
   "metadata": {},
   "outputs": [
    {
     "name": "stdout",
     "output_type": "stream",
     "text": [
      "Note: you may need to restart the kernel to use updated packages.\n"
     ]
    },
    {
     "name": "stderr",
     "output_type": "stream",
     "text": [
      "WARNING: You are using pip version 22.0.4; however, version 22.2.2 is available.\n",
      "You should consider upgrading via the 'c:\\Program Files\\Python38\\python.exe -m pip install --upgrade pip' command.\n"
     ]
    }
   ],
   "source": [
    "%pip install nltk==3.7 -q"
   ]
  },
  {
   "cell_type": "code",
   "execution_count": 26,
   "id": "fffc5b84",
   "metadata": {},
   "outputs": [],
   "source": [
    "import nltk\n",
    "from nltk.corpus import stopwords\n",
    "from nltk.stem import PorterStemmer\n",
    "import re"
   ]
  },
  {
   "cell_type": "code",
   "execution_count": 27,
   "id": "831eb68a",
   "metadata": {},
   "outputs": [
    {
     "name": "stderr",
     "output_type": "stream",
     "text": [
      "[nltk_data] Downloading package stopwords to\n",
      "[nltk_data]     C:\\Users\\soham\\AppData\\Roaming\\nltk_data...\n",
      "[nltk_data]   Package stopwords is already up-to-date!\n"
     ]
    }
   ],
   "source": [
    "nltk.download(\"stopwords\")\n",
    "STOPWORDS = stopwords.words(\"english\")\n",
    "stemmer = PorterStemmer()"
   ]
  },
  {
   "cell_type": "code",
   "execution_count": 97,
   "id": "0478c8b6",
   "metadata": {},
   "outputs": [],
   "source": [
    "def clean_text(text, lower=True, stem=False, stopwords=STOPWORDS):\n",
    "    \"\"\"Clean raw text, lower text, remove stopwords, remove punctuations, non alphanumeric chars, multiple consecutive white spaces, finally stem words\n",
    "\n",
    "    Args:\n",
    "        text (str): _description_\n",
    "        lower (bool, optional): _description_. Defaults to True.\n",
    "        stem (bool, optional): _description_. Defaults to False.\n",
    "        stopwords (_type_, optional): _description_. Defaults to STOPWORDS.\n",
    "    \"\"\"\n",
    "    if lower:\n",
    "        text = text.lower()\n",
    "\n",
    "    if len(stopwords):\n",
    "        pattern = re.compile(r'\\b(' + r\"|\".join(stopwords) + r\")\\b\\s*\")\n",
    "        # NOTE: above regex \\b... searches for \"...\" at the beginning of a word\n",
    "        # \"...\\b\" searches for \"...\" at the end of a word\n",
    "        # \"\\s\" searches for whitespace characters\n",
    "        # \"*\" searches for zero or more occurrences of preceeding text\n",
    "        text = pattern.sub('', text)\n",
    "    \n",
    "    text = re.sub(\n",
    "        r\"([!\\\"'#$%&()*\\+,-./:;<=>?@\\\\\\[\\]^_`{|}~])\", r\" \\1 \", text\n",
    "    )  # add spacing between objects to be filtered\n",
    "    text = re.sub(\"[^A-Za-z0-9]+\", \" \", text)  # remove non alphanumeric chars, \"[^...]\" - not containing \"...\"\n",
    "    text = re.sub(\" +\", \" \", text)  # remove multiple spaces\n",
    "    text = text.strip()  # strip white space at the ends\n",
    "\n",
    "    # Remove links\n",
    "    text = re.sub(r\"http\\S+\", \"\", text)\n",
    "\n",
    "    if stem:\n",
    "        text = \" \".join([stemmer.stem(word, to_lowercase=lower) for word in text.split(\" \")])\n",
    "    \n",
    "    return text"
   ]
  },
  {
   "cell_type": "code",
   "execution_count": 29,
   "id": "d0cdc242",
   "metadata": {},
   "outputs": [
    {
     "data": {
      "application/vnd.jupyter.widget-view+json": {
       "model_id": "5f67fe76080249db90cb99582e396d04",
       "version_major": 2,
       "version_minor": 0
      },
      "text/plain": [
       "interactive(children=(Checkbox(value=True, description='lower'), Checkbox(value=False, description='stem'), Ou…"
      ]
     },
     "metadata": {},
     "output_type": "display_data"
    }
   ],
   "source": [
    "# Toggle preprocessing parameters\n",
    "@widgets.interact(lower=True, stem=False)\n",
    "def display_cleaned_text(lower, stem):\n",
    "    text = \"Conditional image generation using Variational Autoencoders and GANs. 12 #$  ! @.fv ronb wo2in3r\"\n",
    "    cleaned_text = clean_text(text=text, lower=lower, stem=stem)\n",
    "    print (cleaned_text)    "
   ]
  },
  {
   "cell_type": "code",
   "execution_count": 30,
   "id": "e22512c8",
   "metadata": {},
   "outputs": [
    {
     "name": "stdout",
     "output_type": "stream",
     "text": [
      "Comparison between YOLO and RCNN on real world videos Bringing theory to experiment is cool. We can easily train models in colab and find the results in minutes.\n",
      "comparison yolo rcnn real world videos bringing theory experiment cool easily train models colab find results minutes\n"
     ]
    }
   ],
   "source": [
    "# Apply to dataframe\n",
    "original_df = df.copy()\n",
    "df.text = df.text.apply(clean_text, lower=True, stem=False)\n",
    "print (f\"{original_df.text.values[0]}\\n{df.text.values[0]}\")\n"
   ]
  },
  {
   "cell_type": "markdown",
   "id": "9eebded4",
   "metadata": {},
   "source": [
    "### Encoding"
   ]
  },
  {
   "cell_type": "code",
   "execution_count": 31,
   "id": "3f7d92c0",
   "metadata": {},
   "outputs": [],
   "source": [
    "import numpy as np\n",
    "import random\n"
   ]
  },
  {
   "cell_type": "code",
   "execution_count": 32,
   "id": "e31c850a",
   "metadata": {},
   "outputs": [
    {
     "data": {
      "text/plain": [
       "array(['computer-vision', 'other', 'natural-language-processing', 'mlops'],\n",
       "      dtype=object)"
      ]
     },
     "execution_count": 32,
     "metadata": {},
     "output_type": "execute_result"
    }
   ],
   "source": [
    "df.tag.unique()"
   ]
  },
  {
   "cell_type": "code",
   "execution_count": 33,
   "id": "9f425d16",
   "metadata": {},
   "outputs": [],
   "source": [
    "X = df.text.to_numpy()\n",
    "y = df.tag"
   ]
  },
  {
   "cell_type": "code",
   "execution_count": 34,
   "id": "d4b47ff1",
   "metadata": {},
   "outputs": [],
   "source": [
    "class LabelEncoder():\n",
    "    \"\"\"Encode target labels `y` into unique indices between `0` and `n_classes-1`.\n",
    "    \"\"\"\n",
    "    def __init__(self, class_to_index={}):\n",
    "        self.class_to_index = class_to_index or {} # mutable defaults\n",
    "        self.index_to_class = {v: k for k, v in self.class_to_index.items()}\n",
    "        self.classes = list(self.class_to_index.keys())\n",
    "    \n",
    "    def __len__(self):\n",
    "        return len(self.classes)\n",
    "    \n",
    "    def __str__(self):\n",
    "        return f\"<LabelEncoder(num_classes={len(self)})\"\n",
    "    \n",
    "    def fit(self, y):\n",
    "        classes = np.unique(y)\n",
    "        self.index_to_class = {}\n",
    "        for i, class_ in enumerate(classes):\n",
    "            self.class_to_index[class_] = i\n",
    "            self.index_to_class[i] = class_\n",
    "        self.classes = list(self.class_to_index.keys())\n",
    "        return self\n",
    "    \n",
    "    def encode(self, y):\n",
    "        encoded = np.zeros((len(y)), dtype=int)\n",
    "        for i, item in enumerate(y):\n",
    "            encoded[i] = self.class_to_index[item]\n",
    "        return encoded\n",
    "\n",
    "    def decode(self, y):\n",
    "        classes = []\n",
    "        for i, item in enumerate(y):\n",
    "            classes.append(self.index_to_class[item])\n",
    "        return classes\n",
    "\n",
    "    def save(self, fp):\n",
    "        with open(fp, \"w\") as fp:\n",
    "            contents = {\"class_to_index\": self.class_to_index}\n",
    "            json.dump(contents, fp, indent=4, sort_keys=False)\n",
    "    \n",
    "    @classmethod\n",
    "    def load(cls, fp):\n",
    "        # A class method is LIKE a static function?\n",
    "        # A class method is a method which is bound to the class and not the object of the class.\n",
    "        # They have the access to the state of the class as it takes a class parameter that points to the class and not the object instance.\n",
    "        # It can modify a class state that would apply across all the instances of the class. For example, it can modify a class variable that would be applicable to all the instances.\n",
    "        with open(fp, \"r\") as fp:\n",
    "            kwargs = json.load(fp=fp)\n",
    "        return cls(**kwargs)\n",
    "\n",
    "    "
   ]
  },
  {
   "cell_type": "code",
   "execution_count": 35,
   "id": "a823937a",
   "metadata": {},
   "outputs": [],
   "source": [
    "# Encode\n",
    "label_encoder = LabelEncoder()\n",
    "label_encoder.fit(y)\n",
    "num_classes = len(label_encoder)\n"
   ]
  },
  {
   "cell_type": "code",
   "execution_count": 36,
   "id": "f3976329",
   "metadata": {},
   "outputs": [
    {
     "data": {
      "text/plain": [
       "{'computer-vision': 0,\n",
       " 'mlops': 1,\n",
       " 'natural-language-processing': 2,\n",
       " 'other': 3}"
      ]
     },
     "execution_count": 36,
     "metadata": {},
     "output_type": "execute_result"
    }
   ],
   "source": [
    "label_encoder.class_to_index\n"
   ]
  },
  {
   "cell_type": "code",
   "execution_count": 37,
   "id": "48117798",
   "metadata": {},
   "outputs": [
    {
     "data": {
      "text/plain": [
       "{0: 'computer-vision',\n",
       " 1: 'mlops',\n",
       " 2: 'natural-language-processing',\n",
       " 3: 'other'}"
      ]
     },
     "execution_count": 37,
     "metadata": {},
     "output_type": "execute_result"
    }
   ],
   "source": [
    "label_encoder.index_to_class\n"
   ]
  },
  {
   "cell_type": "code",
   "execution_count": 38,
   "id": "d2a7d8ef",
   "metadata": {},
   "outputs": [
    {
     "data": {
      "text/plain": [
       "array([0, 1, 1])"
      ]
     },
     "execution_count": 38,
     "metadata": {},
     "output_type": "execute_result"
    }
   ],
   "source": [
    "# Encode\n",
    "label_encoder.encode([\"computer-vision\", \"mlops\", \"mlops\"])\n"
   ]
  },
  {
   "cell_type": "code",
   "execution_count": 39,
   "id": "b2d843a8",
   "metadata": {},
   "outputs": [
    {
     "data": {
      "text/plain": [
       "['computer-vision', 'mlops', 'mlops']"
      ]
     },
     "execution_count": 39,
     "metadata": {},
     "output_type": "execute_result"
    }
   ],
   "source": [
    "# Decode\n",
    "label_encoder.decode(np.array([0, 1, 1]))\n"
   ]
  },
  {
   "cell_type": "code",
   "execution_count": 40,
   "id": "b0b14dd6",
   "metadata": {},
   "outputs": [
    {
     "name": "stdout",
     "output_type": "stream",
     "text": [
      "(955,)\n"
     ]
    }
   ],
   "source": [
    "# Encode all our labels\n",
    "y = label_encoder.encode(y)\n",
    "print (y.shape)\n"
   ]
  },
  {
   "cell_type": "markdown",
   "id": "e7de0e89",
   "metadata": {},
   "source": [
    "## Splitting"
   ]
  },
  {
   "cell_type": "markdown",
   "id": "04ca3b80",
   "metadata": {},
   "source": [
    "**What are the criteria we should focus on to ensure proper data splits?**\n",
    "- the dataset (and each data split) should be representative of data we will encounter\n",
    "- equal distributions of output values across all splits\n",
    "- shuffle your data if it's organized in a way that prevents input variance\n",
    "- avoid random shuffles if your task can suffer from data leaks (ex. time-series)"
   ]
  },
  {
   "cell_type": "code",
   "execution_count": 41,
   "id": "d84358bf",
   "metadata": {},
   "outputs": [],
   "source": [
    "from sklearn.model_selection import train_test_split"
   ]
  },
  {
   "cell_type": "code",
   "execution_count": 42,
   "id": "591c5a1d",
   "metadata": {},
   "outputs": [],
   "source": [
    "# Split sizes\n",
    "train_size = 0.7\n",
    "val_size = 0.15\n",
    "test_size = 0.15\n"
   ]
  },
  {
   "cell_type": "code",
   "execution_count": 43,
   "id": "60a22392",
   "metadata": {},
   "outputs": [],
   "source": [
    "X_train, X_, y_train, y_ = train_test_split(X, y, train_size=train_size, stratify=y)"
   ]
  },
  {
   "cell_type": "code",
   "execution_count": 44,
   "id": "43a0188e",
   "metadata": {},
   "outputs": [
    {
     "name": "stdout",
     "output_type": "stream",
     "text": [
      "train: 668 (0.70)\n",
      "remaining: 287 (0.30)\n"
     ]
    }
   ],
   "source": [
    "print (f\"train: {len(X_train)} ({(len(X_train) / len(X)):.2f})\\n\"\n",
    "       f\"remaining: {len(X_)} ({(len(X_) / len(X)):.2f})\")\n"
   ]
  },
  {
   "cell_type": "code",
   "execution_count": 45,
   "id": "adaa8a1c",
   "metadata": {},
   "outputs": [],
   "source": [
    "X_val, X_test, y_val, y_test = train_test_split(X_, y_, test_size=(test_size/(test_size+val_size)), stratify=y_)"
   ]
  },
  {
   "cell_type": "code",
   "execution_count": 46,
   "id": "ca86941f",
   "metadata": {},
   "outputs": [
    {
     "name": "stdout",
     "output_type": "stream",
     "text": [
      "train: 668 (0.70)\n",
      "val: 143 (0.15)\n",
      "test: 144 (0.15)\n"
     ]
    }
   ],
   "source": [
    "print(f\"train: {len(X_train)} ({len(X_train)/len(X):.2f})\\n\"\n",
    "      f\"val: {len(X_val)} ({len(X_val)/len(X):.2f})\\n\"\n",
    "      f\"test: {len(X_test)} ({len(X_test)/len(X):.2f})\")\n"
   ]
  },
  {
   "cell_type": "code",
   "execution_count": 47,
   "id": "b7c3ecda",
   "metadata": {},
   "outputs": [],
   "source": [
    "# Get counts for each class\n",
    "counts = {}\n",
    "counts[\"train_counts\"] = Counter(label_encoder.decode(y_train))\n",
    "counts[\"val_counts\"] = Counter(label_encoder.decode(y_val))\n",
    "counts[\"test_counts\"] = Counter(label_encoder.decode(y_test))\n"
   ]
  },
  {
   "cell_type": "code",
   "execution_count": 48,
   "id": "c2d6a911",
   "metadata": {},
   "outputs": [
    {
     "data": {
      "text/html": [
       "<div>\n",
       "<style scoped>\n",
       "    .dataframe tbody tr th:only-of-type {\n",
       "        vertical-align: middle;\n",
       "    }\n",
       "\n",
       "    .dataframe tbody tr th {\n",
       "        vertical-align: top;\n",
       "    }\n",
       "\n",
       "    .dataframe thead th {\n",
       "        text-align: right;\n",
       "    }\n",
       "</style>\n",
       "<table border=\"1\" class=\"dataframe\">\n",
       "  <thead>\n",
       "    <tr style=\"text-align: right;\">\n",
       "      <th></th>\n",
       "      <th>computer-vision</th>\n",
       "      <th>other</th>\n",
       "      <th>mlops</th>\n",
       "      <th>natural-language-processing</th>\n",
       "    </tr>\n",
       "  </thead>\n",
       "  <tbody>\n",
       "    <tr>\n",
       "      <th>train</th>\n",
       "      <td>249</td>\n",
       "      <td>92</td>\n",
       "      <td>55</td>\n",
       "      <td>272</td>\n",
       "    </tr>\n",
       "    <tr>\n",
       "      <th>val</th>\n",
       "      <td>53</td>\n",
       "      <td>20</td>\n",
       "      <td>12</td>\n",
       "      <td>58</td>\n",
       "    </tr>\n",
       "    <tr>\n",
       "      <th>test</th>\n",
       "      <td>54</td>\n",
       "      <td>20</td>\n",
       "      <td>12</td>\n",
       "      <td>58</td>\n",
       "    </tr>\n",
       "  </tbody>\n",
       "</table>\n",
       "</div>"
      ],
      "text/plain": [
       "       computer-vision  other  mlops  natural-language-processing\n",
       "train              249     92     55                          272\n",
       "val                 53     20     12                           58\n",
       "test                54     20     12                           58"
      ]
     },
     "execution_count": 48,
     "metadata": {},
     "output_type": "execute_result"
    }
   ],
   "source": [
    "# View distributions\n",
    "pd.DataFrame({\n",
    "    \"train\": counts[\"train_counts\"],\n",
    "    \"val\": counts[\"val_counts\"],\n",
    "    \"test\": counts[\"test_counts\"]\n",
    "}).T.fillna(0)"
   ]
  },
  {
   "cell_type": "code",
   "execution_count": 49,
   "id": "62558f80",
   "metadata": {},
   "outputs": [],
   "source": [
    "# Adjust counts across splits\n",
    "for k in counts[\"val_counts\"].keys():\n",
    "    counts[\"val_counts\"][k] = int(counts[\"val_counts\"][k] * \\\n",
    "        (train_size/val_size))\n",
    "for k in counts[\"test_counts\"].keys():\n",
    "    counts[\"test_counts\"][k] = int(counts[\"test_counts\"][k] * \\\n",
    "        (train_size/test_size))\n"
   ]
  },
  {
   "cell_type": "code",
   "execution_count": 50,
   "id": "26acc6cc",
   "metadata": {},
   "outputs": [
    {
     "data": {
      "text/html": [
       "<div>\n",
       "<style scoped>\n",
       "    .dataframe tbody tr th:only-of-type {\n",
       "        vertical-align: middle;\n",
       "    }\n",
       "\n",
       "    .dataframe tbody tr th {\n",
       "        vertical-align: top;\n",
       "    }\n",
       "\n",
       "    .dataframe thead th {\n",
       "        text-align: right;\n",
       "    }\n",
       "</style>\n",
       "<table border=\"1\" class=\"dataframe\">\n",
       "  <thead>\n",
       "    <tr style=\"text-align: right;\">\n",
       "      <th></th>\n",
       "      <th>computer-vision</th>\n",
       "      <th>other</th>\n",
       "      <th>mlops</th>\n",
       "      <th>natural-language-processing</th>\n",
       "    </tr>\n",
       "  </thead>\n",
       "  <tbody>\n",
       "    <tr>\n",
       "      <th>train</th>\n",
       "      <td>249</td>\n",
       "      <td>92</td>\n",
       "      <td>55</td>\n",
       "      <td>272</td>\n",
       "    </tr>\n",
       "    <tr>\n",
       "      <th>val</th>\n",
       "      <td>247</td>\n",
       "      <td>93</td>\n",
       "      <td>56</td>\n",
       "      <td>270</td>\n",
       "    </tr>\n",
       "    <tr>\n",
       "      <th>test</th>\n",
       "      <td>252</td>\n",
       "      <td>93</td>\n",
       "      <td>56</td>\n",
       "      <td>270</td>\n",
       "    </tr>\n",
       "  </tbody>\n",
       "</table>\n",
       "</div>"
      ],
      "text/plain": [
       "       computer-vision  other  mlops  natural-language-processing\n",
       "train              249     92     55                          272\n",
       "val                247     93     56                          270\n",
       "test               252     93     56                          270"
      ]
     },
     "execution_count": 50,
     "metadata": {},
     "output_type": "execute_result"
    }
   ],
   "source": [
    "dist_df = pd.DataFrame({\n",
    "    \"train\": counts[\"train_counts\"],\n",
    "    \"val\": counts[\"val_counts\"],\n",
    "    \"test\": counts[\"test_counts\"]\n",
    "}).T.fillna(0)\n",
    "dist_df\n"
   ]
  },
  {
   "cell_type": "code",
   "execution_count": 51,
   "id": "ffc25576",
   "metadata": {},
   "outputs": [
    {
     "data": {
      "text/plain": [
       "0.9851056877051132"
      ]
     },
     "execution_count": 51,
     "metadata": {},
     "output_type": "execute_result"
    }
   ],
   "source": [
    "# Standard deviation\n",
    "np.mean(np.std(dist_df.to_numpy(), axis=0))\n"
   ]
  },
  {
   "cell_type": "code",
   "execution_count": 52,
   "id": "27c48ef1",
   "metadata": {},
   "outputs": [
    {
     "data": {
      "text/html": [
       "<div>\n",
       "<style scoped>\n",
       "    .dataframe tbody tr th:only-of-type {\n",
       "        vertical-align: middle;\n",
       "    }\n",
       "\n",
       "    .dataframe tbody tr th {\n",
       "        vertical-align: top;\n",
       "    }\n",
       "\n",
       "    .dataframe thead th {\n",
       "        text-align: right;\n",
       "    }\n",
       "</style>\n",
       "<table border=\"1\" class=\"dataframe\">\n",
       "  <thead>\n",
       "    <tr style=\"text-align: right;\">\n",
       "      <th></th>\n",
       "      <th>text</th>\n",
       "      <th>tag</th>\n",
       "    </tr>\n",
       "  </thead>\n",
       "  <tbody>\n",
       "    <tr>\n",
       "      <th>0</th>\n",
       "      <td>semantic segmentation mit ade20k dataset pytor...</td>\n",
       "      <td>computer-vision</td>\n",
       "    </tr>\n",
       "    <tr>\n",
       "      <th>1</th>\n",
       "      <td>model based reinforcement learning survey surv...</td>\n",
       "      <td>other</td>\n",
       "    </tr>\n",
       "    <tr>\n",
       "      <th>2</th>\n",
       "      <td>serving pytorch models production amazon sagem...</td>\n",
       "      <td>mlops</td>\n",
       "    </tr>\n",
       "    <tr>\n",
       "      <th>3</th>\n",
       "      <td>super bpd fast image segmentation propose dire...</td>\n",
       "      <td>computer-vision</td>\n",
       "    </tr>\n",
       "    <tr>\n",
       "      <th>4</th>\n",
       "      <td>pixellib pixellib library performing segmentat...</td>\n",
       "      <td>computer-vision</td>\n",
       "    </tr>\n",
       "  </tbody>\n",
       "</table>\n",
       "</div>"
      ],
      "text/plain": [
       "                                                text              tag\n",
       "0  semantic segmentation mit ade20k dataset pytor...  computer-vision\n",
       "1  model based reinforcement learning survey surv...            other\n",
       "2  serving pytorch models production amazon sagem...            mlops\n",
       "3  super bpd fast image segmentation propose dire...  computer-vision\n",
       "4  pixellib pixellib library performing segmentat...  computer-vision"
      ]
     },
     "execution_count": 52,
     "metadata": {},
     "output_type": "execute_result"
    }
   ],
   "source": [
    "# Split DataFrames\n",
    "train_df = pd.DataFrame({\"text\": X_train, \"tag\": label_encoder.decode(y_train)})\n",
    "val_df = pd.DataFrame({\"text\": X_val, \"tag\": label_encoder.decode(y_val)})\n",
    "test_df = pd.DataFrame({\"text\": X_test, \"tag\": label_encoder.decode(y_test)})\n",
    "train_df.head()"
   ]
  },
  {
   "cell_type": "markdown",
   "id": "4c266ddc",
   "metadata": {},
   "source": [
    "## Augmentation\n",
    "We'll often want to increase the size and diversity of our training data split through data augmentation. It involves using the existing samples to generate synthetic, yet realistic, examples.\n",
    "\n",
    "1. Split the dataset. We want to split our dataset first because many augmentation techniques will cause a form of data leak if we allow the generated samples to be placed across different data splits.\n",
    "\n",
    ">For example, some augmentation involves generating synonyms for certain key tokens in a sentence. If we allow the generated sentences from the same origin sentence to go into different splits, we could be potentially leaking samples with nearly identical embedding representations across our different splits.\n",
    "\n",
    "2. Augment the training split. We want to apply data augmentation on only the training set because our validation and testing splits should be used to provide an accurate estimate on actual data points.\n",
    "\n",
    "3. Inspect and validate. It's useless to augment just for the same of increasing our training sample size if the augmented data samples are not probable inputs that our model could encounter in production."
   ]
  },
  {
   "cell_type": "code",
   "execution_count": 53,
   "id": "ed3d415e",
   "metadata": {},
   "outputs": [
    {
     "name": "stderr",
     "output_type": "stream",
     "text": [
      "WARNING: You are using pip version 22.0.4; however, version 22.2.2 is available.\n",
      "You should consider upgrading via the 'c:\\program files\\python38\\python.exe -m pip install --upgrade pip' command.\n",
      "ERROR: Could not install packages due to an OSError: [WinError 5] Access is denied: 'C:\\\\Users\\\\soham\\\\AppData\\\\Roaming\\\\Python\\\\Python38\\\\site-packages\\\\~klearn\\\\.libs\\\\vcomp140.dll'\n",
      "Check the permissions.\n",
      "\n",
      "WARNING: You are using pip version 22.0.4; however, version 22.2.2 is available.\n",
      "You should consider upgrading via the 'c:\\program files\\python38\\python.exe -m pip install --upgrade pip' command.\n"
     ]
    }
   ],
   "source": [
    "!pip install nlpaug==1.1.0 transformers==3.0.2 -q\n",
    "!pip install snorkel==0.9.8 -q\n"
   ]
  },
  {
   "cell_type": "code",
   "execution_count": 54,
   "id": "a89a03ce",
   "metadata": {},
   "outputs": [],
   "source": [
    "import nlpaug.augmenter.word as naw"
   ]
  },
  {
   "cell_type": "code",
   "execution_count": 55,
   "id": "450cf349",
   "metadata": {},
   "outputs": [],
   "source": [
    "# Load tokenizers and transformers\n",
    "substitution = naw.ContextualWordEmbsAug(model_path='distilbert-base-uncased', action='substitute')\n",
    "insertion = naw.ContextualWordEmbsAug(model_path='distilbert-base-uncased', action='insert')\n",
    "text = \"Conditional image generation using Variational Autoencoders and GANs.\"\n"
   ]
  },
  {
   "cell_type": "code",
   "execution_count": 56,
   "id": "4152013a",
   "metadata": {},
   "outputs": [
    {
     "data": {
      "text/plain": [
       "'quantum image generation utilizes naive algorithms and gans.'"
      ]
     },
     "execution_count": 56,
     "metadata": {},
     "output_type": "execute_result"
    }
   ],
   "source": [
    "# Substitutions\n",
    "substitution.augment(text)\n"
   ]
  },
  {
   "cell_type": "markdown",
   "id": "4bdcdae6",
   "metadata": {},
   "source": [
    "Substitution doesn't seem like a great idea for us because there are certain keywords that provide strong signal for our tags so we don't want to alter those. Also, note that these augmentations are NOT deterministic and will vary every time we run them. Let's try insertion..."
   ]
  },
  {
   "cell_type": "code",
   "execution_count": 57,
   "id": "ba468363",
   "metadata": {},
   "outputs": [
    {
     "data": {
      "text/plain": [
       "'conditional linear image generation technique using variational conditional autoencoders and input gans.'"
      ]
     },
     "execution_count": 57,
     "metadata": {},
     "output_type": "execute_result"
    }
   ],
   "source": [
    "# Insertions\n",
    "insertion.augment(text)\n"
   ]
  },
  {
   "cell_type": "markdown",
   "id": "efed57c8",
   "metadata": {},
   "source": [
    "A little better but still quite fragile and now it can potentially insert key words that can influence false positive tags to appear. Maybe instead of substituting or inserting new tokens, let's try simply swapping machine learning related keywords with their aliases from our auxiliary data. We'll use Snorkel's transformation functions to easily achieve this."
   ]
  },
  {
   "cell_type": "code",
   "execution_count": 58,
   "id": "f448925b",
   "metadata": {},
   "outputs": [],
   "source": [
    "def replace_dash(x):\n",
    "    \"\"\"Replace dashes from tags & aliases\n",
    "\n",
    "    Args:\n",
    "        x (str): _description_\n",
    "    \"\"\"\n",
    "    return x.replace(\"-\", \" \")\n",
    "    "
   ]
  },
  {
   "cell_type": "code",
   "execution_count": 59,
   "id": "184ad9b5",
   "metadata": {},
   "outputs": [],
   "source": [
    "# Create dict of aliases\n",
    "flat_tags_dict = {}\n",
    "for tag, info in tags_dict.items():\n",
    "    tag = replace_dash(x=tag)\n",
    "    aliases = list(map(replace_dash, info['aliases']))\n",
    "    if len(aliases):\n",
    "        flat_tags_dict[tag] = aliases\n",
    "    for alias in aliases:\n",
    "        _aliases = aliases + [tag]\n",
    "        _aliases.remove(alias)\n",
    "        flat_tags_dict[alias] = _aliases"
   ]
  },
  {
   "cell_type": "code",
   "execution_count": 60,
   "id": "5f62de26",
   "metadata": {},
   "outputs": [
    {
     "name": "stdout",
     "output_type": "stream",
     "text": [
      "['nlp', 'nlproc']\n",
      "['nlproc', 'natural language processing']\n"
     ]
    }
   ],
   "source": [
    "print (flat_tags_dict[\"natural language processing\"])\n",
    "print (flat_tags_dict[\"nlp\"])\n"
   ]
  },
  {
   "cell_type": "code",
   "execution_count": 61,
   "id": "52fddd64",
   "metadata": {},
   "outputs": [
    {
     "data": {
      "text/plain": [
       "{'computer vision': ['cv', 'vision'],\n",
       " 'cv': ['vision', 'computer vision'],\n",
       " 'vision': ['cv', 'computer vision'],\n",
       " 'graph learning': ['graphs'],\n",
       " 'graphs': ['graph learning'],\n",
       " 'mlops': ['production'],\n",
       " 'production': ['mlops'],\n",
       " 'natural language processing': ['nlp', 'nlproc'],\n",
       " 'nlp': ['nlproc', 'natural language processing'],\n",
       " 'nlproc': ['nlp', 'natural language processing']}"
      ]
     },
     "execution_count": 61,
     "metadata": {},
     "output_type": "execute_result"
    }
   ],
   "source": [
    "flat_tags_dict"
   ]
  },
  {
   "cell_type": "code",
   "execution_count": 62,
   "id": "3e1825ee",
   "metadata": {},
   "outputs": [
    {
     "name": "stdout",
     "output_type": "stream",
     "text": [
      "True\n",
      "True\n"
     ]
    }
   ],
   "source": [
    "# We want to match with the whole word only\n",
    "print (\"gan\" in \"This is a gan.\")\n",
    "print (\"gan\" in \"This is gandalf.\")\n"
   ]
  },
  {
   "cell_type": "code",
   "execution_count": 63,
   "id": "b4e358c1",
   "metadata": {},
   "outputs": [],
   "source": [
    "# \\b matches spaces\n",
    "def find_word(word, text):\n",
    "    word = word.replace(\"+\", \"\\+\")\n",
    "    pattern = re.compile(fr\"\\b({word})\\b\", flags=re.IGNORECASE)\n",
    "    return pattern.search(text)\n"
   ]
  },
  {
   "cell_type": "code",
   "execution_count": 64,
   "id": "cec122be",
   "metadata": {},
   "outputs": [
    {
     "name": "stdout",
     "output_type": "stream",
     "text": [
      "<re.Match object; span=(10, 13), match='gan'>\n",
      "None\n"
     ]
    }
   ],
   "source": [
    "# Correct behavior (single instance)\n",
    "print (find_word(\"gan\", \"This is a gan.\"))\n",
    "print (find_word(\"gan\", \"This is gandalf.\"))\n"
   ]
  },
  {
   "cell_type": "code",
   "execution_count": 65,
   "id": "cf12de49",
   "metadata": {},
   "outputs": [],
   "source": [
    "from snorkel.augmentation import transformation_function"
   ]
  },
  {
   "cell_type": "code",
   "execution_count": 66,
   "id": "7382df63",
   "metadata": {},
   "outputs": [],
   "source": [
    "@transformation_function()\n",
    "def swap_aliases(x):\n",
    "    \"\"\"Swap ML keywords with their aliases.\n",
    "\n",
    "    Args:\n",
    "        x (_type_): _description_\n",
    "    \"\"\"\n",
    "    matches = []\n",
    "    text = x.text\n",
    "    for i, tag in enumerate(flat_tags_dict):\n",
    "        match = find_word(tag, text)\n",
    "        if match:\n",
    "            matches.append(match)\n",
    "    if len(matches):\n",
    "        match = random.choice(matches)\n",
    "        tag = text[match.start():match.end()]\n",
    "        x.text = f\"{text[:match.start()]}{random.choice(flat_tags_dict[tag])}{text[match.end():]}\"\n",
    "    return x"
   ]
  },
  {
   "cell_type": "code",
   "execution_count": 67,
   "id": "9807f690",
   "metadata": {},
   "outputs": [
    {
     "name": "stdout",
     "output_type": "stream",
     "text": [
      "survey reinforcement learning natural language processing tasks\n",
      "survey reinforcement learning nlproc tasks\n",
      "survey reinforcement learning nlproc tasks\n"
     ]
    }
   ],
   "source": [
    "# Swap\n",
    "sample_df = pd.DataFrame([{\"text\": \"a survey of reinforcement learning for nlp tasks.\"}])\n",
    "sample_df.text = sample_df.text.apply(clean_text, lower=True, stem=False)\n",
    "for i in range(3):\n",
    "    print(swap_aliases(sample_df.copy().iloc[0]).text)\n"
   ]
  },
  {
   "cell_type": "code",
   "execution_count": 68,
   "id": "9159c8ba",
   "metadata": {},
   "outputs": [
    {
     "name": "stdout",
     "output_type": "stream",
     "text": [
      "autogenerate vision apply jobs using nlp\n",
      "autogenerate vision apply jobs using nlp\n",
      "autogenerate vision apply jobs using nlp\n"
     ]
    }
   ],
   "source": [
    "# Undesired behavior (needs contextual insight)\n",
    "for i in range(3):\n",
    "    sample_df = pd.DataFrame([{\"text\": \"Autogenerate your CV to apply for jobs using NLP.\"}])\n",
    "    sample_df.text = sample_df.text.apply(clean_text, lower=True, stem=False)\n",
    "    print (swap_aliases(sample_df.iloc[0]).text)\n"
   ]
  },
  {
   "cell_type": "code",
   "execution_count": 69,
   "id": "1b00db2f",
   "metadata": {},
   "outputs": [],
   "source": [
    "from snorkel.augmentation import ApplyOnePolicy, PandasTFApplier"
   ]
  },
  {
   "cell_type": "code",
   "execution_count": 70,
   "id": "b6f5f04d",
   "metadata": {},
   "outputs": [
    {
     "name": "stderr",
     "output_type": "stream",
     "text": [
      "100%|██████████| 668/668 [00:01<00:00, 412.25it/s]\n"
     ]
    },
    {
     "data": {
      "text/html": [
       "<div>\n",
       "<style scoped>\n",
       "    .dataframe tbody tr th:only-of-type {\n",
       "        vertical-align: middle;\n",
       "    }\n",
       "\n",
       "    .dataframe tbody tr th {\n",
       "        vertical-align: top;\n",
       "    }\n",
       "\n",
       "    .dataframe thead th {\n",
       "        text-align: right;\n",
       "    }\n",
       "</style>\n",
       "<table border=\"1\" class=\"dataframe\">\n",
       "  <thead>\n",
       "    <tr style=\"text-align: right;\">\n",
       "      <th></th>\n",
       "      <th>text</th>\n",
       "      <th>tag</th>\n",
       "    </tr>\n",
       "  </thead>\n",
       "  <tbody>\n",
       "    <tr>\n",
       "      <th>0</th>\n",
       "      <td>semantic segmentation mit ade20k dataset pytor...</td>\n",
       "      <td>computer-vision</td>\n",
       "    </tr>\n",
       "    <tr>\n",
       "      <th>1</th>\n",
       "      <td>model based reinforcement learning survey surv...</td>\n",
       "      <td>other</td>\n",
       "    </tr>\n",
       "    <tr>\n",
       "      <th>2</th>\n",
       "      <td>serving pytorch models production amazon sagem...</td>\n",
       "      <td>mlops</td>\n",
       "    </tr>\n",
       "    <tr>\n",
       "      <th>2</th>\n",
       "      <td>serving pytorch models mlops amazon sagemaker ...</td>\n",
       "      <td>mlops</td>\n",
       "    </tr>\n",
       "    <tr>\n",
       "      <th>3</th>\n",
       "      <td>super bpd fast image segmentation propose dire...</td>\n",
       "      <td>computer-vision</td>\n",
       "    </tr>\n",
       "  </tbody>\n",
       "</table>\n",
       "</div>"
      ],
      "text/plain": [
       "                                                text              tag\n",
       "0  semantic segmentation mit ade20k dataset pytor...  computer-vision\n",
       "1  model based reinforcement learning survey surv...            other\n",
       "2  serving pytorch models production amazon sagem...            mlops\n",
       "2  serving pytorch models mlops amazon sagemaker ...            mlops\n",
       "3  super bpd fast image segmentation propose dire...  computer-vision"
      ]
     },
     "execution_count": 70,
     "metadata": {},
     "output_type": "execute_result"
    }
   ],
   "source": [
    "# Transformation function (TF) policy\n",
    "policy = ApplyOnePolicy(n_per_original=5, keep_original=True)\n",
    "tf_applier = PandasTFApplier([swap_aliases], policy)\n",
    "train_df_augmented = tf_applier.apply(train_df)\n",
    "train_df_augmented.drop_duplicates(subset=['text'], inplace=True)\n",
    "train_df_augmented.head()"
   ]
  },
  {
   "cell_type": "code",
   "execution_count": 71,
   "id": "11d8c9d9",
   "metadata": {},
   "outputs": [
    {
     "data": {
      "text/plain": [
       "(668, 919)"
      ]
     },
     "execution_count": 71,
     "metadata": {},
     "output_type": "execute_result"
    }
   ],
   "source": [
    "len(train_df), len(train_df_augmented)"
   ]
  },
  {
   "cell_type": "markdown",
   "id": "c5f559fc",
   "metadata": {},
   "source": [
    "# Modeling\n",
    "## Baselines"
   ]
  },
  {
   "cell_type": "code",
   "execution_count": 72,
   "id": "f82fa801",
   "metadata": {},
   "outputs": [],
   "source": [
    "import random"
   ]
  },
  {
   "cell_type": "code",
   "execution_count": 73,
   "id": "7e3bd50e",
   "metadata": {},
   "outputs": [],
   "source": [
    "def set_seeds(seed=42):\n",
    "    \"\"\"Set seeds for reproducibility.\"\"\"\n",
    "    np.random.seed(seed)\n",
    "    random.seed(seed)\n"
   ]
  },
  {
   "cell_type": "code",
   "execution_count": 74,
   "id": "a0a0e8ea",
   "metadata": {},
   "outputs": [],
   "source": [
    "def preprocess(df, lower, stem):\n",
    "    \"\"\"Preprocess the data\n",
    "\n",
    "    Args:\n",
    "        df (pandas.DataFrame): _description_\n",
    "        lower (bool): _description_\n",
    "        stem (bool): _description_\n",
    "    \"\"\"\n",
    "    df['text'] = df.title + \" \" + df.description\n",
    "    df.text = df.text.apply(clean_text, lower=lower, stem=stem)\n",
    "    return df    "
   ]
  },
  {
   "cell_type": "code",
   "execution_count": 75,
   "id": "097140b9",
   "metadata": {},
   "outputs": [],
   "source": [
    "def get_data_splits(X, y, train_size=0.7):\n",
    "    \"\"\"Generate balanced data splits\n",
    "\n",
    "    Args:\n",
    "        X (_type_): _description_\n",
    "        y (_type_): _description_\n",
    "        train_size (float, optional): _description_. Defaults to 0.7.\n",
    "    \"\"\"\n",
    "    X_train, X_, y_train, y_ = train_test_split(\n",
    "        X, y, train_size=train_size, stratify=y)\n",
    "    X_val, X_test, y_val, y_test = train_test_split(\n",
    "        X_, y_, train_size=0.5, stratify=y_)\n",
    "    return X_train, X_val, X_test, y_train, y_val, y_test\n"
   ]
  },
  {
   "cell_type": "code",
   "execution_count": 77,
   "id": "5d767f3f",
   "metadata": {},
   "outputs": [],
   "source": [
    "df = df.sample(frac=1).reset_index(drop=True)  # shuffle\n",
    "# df = df[:num_samples]\n"
   ]
  },
  {
   "cell_type": "markdown",
   "id": "a1608810",
   "metadata": {},
   "source": [
    "> **Why is it important that we shuffle our dataset?**\n",
    ">>We need to shuffle our data since our data is chronologically organized. The latest projects may have certain features or tags that are prevalent compared to earlier projects. If we don't shuffle before creating our data splits, then our model will only be trained on the earlier signals and fail to generalize. However, in other scenarios (ex. time-series forecasting), shuffling will lead do data leaks. \n",
    "\n"
   ]
  },
  {
   "cell_type": "markdown",
   "id": "9328a4e0",
   "metadata": {},
   "source": [
    "### Random"
   ]
  },
  {
   "cell_type": "code",
   "execution_count": 78,
   "id": "9e265e8a",
   "metadata": {},
   "outputs": [],
   "source": [
    "from sklearn.metrics import precision_recall_fscore_support"
   ]
  },
  {
   "cell_type": "code",
   "execution_count": 80,
   "id": "736d3f52",
   "metadata": {},
   "outputs": [],
   "source": [
    "# Setup\n",
    "set_seeds()\n",
    "df = pd.DataFrame(json.load(open(\"labeled_projects.json\", \"r\")))\n",
    "df = df.sample(frac=1).reset_index(drop=True)\n",
    "df = preprocess(df, lower=True, stem=False)\n",
    "label_encoder = LabelEncoder().fit(df.tag)\n",
    "X_train, X_val, X_test, y_train, y_val, y_test = \\\n",
    "    get_data_splits(X=df.text.to_numpy(), y=label_encoder.encode(df.tag))"
   ]
  },
  {
   "cell_type": "code",
   "execution_count": 82,
   "id": "57673c54",
   "metadata": {},
   "outputs": [
    {
     "name": "stdout",
     "output_type": "stream",
     "text": [
      "<LabelEncoder(num_classes=4)\n",
      "{'computer-vision': 0, 'mlops': 1, 'natural-language-processing': 2, 'other': 3}\n"
     ]
    }
   ],
   "source": [
    "# Label encoder\n",
    "print (label_encoder)\n",
    "print (label_encoder.class_to_index)"
   ]
  },
  {
   "cell_type": "code",
   "execution_count": 85,
   "id": "7a7e2ce3",
   "metadata": {},
   "outputs": [
    {
     "name": "stdout",
     "output_type": "stream",
     "text": [
      "(144,)\n",
      "[2 2 1 3 1]\n"
     ]
    }
   ],
   "source": [
    "# Generate random predictions\n",
    "y_pred = np.random.randint(low=0, high=len(label_encoder), size=len(y_test))\n",
    "print (y_pred.shape)\n",
    "print (y_pred[0:5])"
   ]
  },
  {
   "cell_type": "code",
   "execution_count": 87,
   "id": "2c656401",
   "metadata": {},
   "outputs": [
    {
     "name": "stdout",
     "output_type": "stream",
     "text": [
      "{\n",
      "  \"precision\": 0.29428010261343596,\n",
      "  \"recall\": 0.2152777777777778,\n",
      "  \"f1\": 0.2378460375525673\n",
      "}\n"
     ]
    }
   ],
   "source": [
    "# Evaluate\n",
    "metrics = precision_recall_fscore_support(y_test, y_pred, average=\"weighted\")\n",
    "performance = {\"precision\": metrics[0], \"recall\": metrics[1], \"f1\": metrics[2]}\n",
    "print (json.dumps(performance, indent=2))"
   ]
  },
  {
   "cell_type": "markdown",
   "id": "7d7d6c5c",
   "metadata": {},
   "source": [
    "We made the assumption when making predictions that there is an equal probability for every class. Let's use the train split to figure out what the true probability is."
   ]
  },
  {
   "cell_type": "code",
   "execution_count": 88,
   "id": "cdef46f9",
   "metadata": {},
   "outputs": [
    {
     "data": {
      "text/plain": [
       "[0.375, 0.08333333333333333, 0.4027777777777778, 0.1388888888888889]"
      ]
     },
     "execution_count": 88,
     "metadata": {},
     "output_type": "execute_result"
    }
   ],
   "source": [
    "p = [Counter(y_test)[index]/len(y_test) for index in range(len(label_encoder))]\n",
    "p"
   ]
  },
  {
   "cell_type": "code",
   "execution_count": 89,
   "id": "8f557a25",
   "metadata": {},
   "outputs": [],
   "source": [
    "# Generate weighted random predictions\n",
    "y_pred = np.random.choice(a=range(len(label_encoder)), size=len(y_test), p=p)"
   ]
  },
  {
   "cell_type": "code",
   "execution_count": 90,
   "id": "e9500612",
   "metadata": {},
   "outputs": [
    {
     "name": "stdout",
     "output_type": "stream",
     "text": [
      "{\n",
      "  \"precision\": 0.2589471067442853,\n",
      "  \"recall\": 0.2708333333333333,\n",
      "  \"f1\": 0.26341520404853686\n",
      "}\n"
     ]
    }
   ],
   "source": [
    "# Evaluate\n",
    "metrics = precision_recall_fscore_support(y_test, y_pred, average=\"weighted\")\n",
    "performance = {\"precision\": metrics[0], \"recall\": metrics[1], \"f1\": metrics[2]}\n",
    "print (json.dumps(performance, indent=2))\n"
   ]
  },
  {
   "cell_type": "markdown",
   "id": "7c3c0a15",
   "metadata": {},
   "source": [
    "<u>limitations:</u> we didn't use the tokens in our input to affect our predictions **so nothing was learned**"
   ]
  },
  {
   "cell_type": "markdown",
   "id": "607c855c",
   "metadata": {},
   "source": [
    "### Rule Based"
   ]
  },
  {
   "cell_type": "markdown",
   "id": "7fe160af",
   "metadata": {},
   "source": [
    "<u>motivation:</u> we want to use signals in our inputs (along with domain expertise and auxiliary data) to determine the labels."
   ]
  },
  {
   "cell_type": "code",
   "execution_count": 91,
   "id": "0a340c69",
   "metadata": {},
   "outputs": [],
   "source": [
    "# Setup\n",
    "set_seeds()\n",
    "df = pd.DataFrame(json.load(open(\"labeled_projects.json\", \"r\")))\n",
    "df = df.sample(frac=1).reset_index(drop=True)\n",
    "df = preprocess(df, lower=True, stem=False)\n",
    "label_encoder = LabelEncoder().fit(df.tag)\n",
    "X_train, X_val, X_test, y_train, y_val, y_test = \\\n",
    "    get_data_splits(X=df.text.to_numpy(), y=label_encoder.encode(df.tag))\n"
   ]
  },
  {
   "cell_type": "code",
   "execution_count": 95,
   "id": "78bdf116",
   "metadata": {},
   "outputs": [
    {
     "data": {
      "text/plain": [
       "['computer-vision', 'mlops', 'natural-language-processing', 'other']"
      ]
     },
     "execution_count": 95,
     "metadata": {},
     "output_type": "execute_result"
    }
   ],
   "source": [
    "label_encoder.classes"
   ]
  },
  {
   "cell_type": "code",
   "execution_count": 96,
   "id": "415d7ff6",
   "metadata": {},
   "outputs": [
    {
     "name": "stdout",
     "output_type": "stream",
     "text": [
      "4\n",
      "3\n"
     ]
    }
   ],
   "source": [
    "print(len(tags_dict))\n",
    "tags_dict = {tag: tags_dict[tag] for tag in label_encoder.classes if tag != \"other\"}\n",
    "print(len(tags_dict))"
   ]
  },
  {
   "cell_type": "code",
   "execution_count": 100,
   "id": "3068cf5b",
   "metadata": {},
   "outputs": [
    {
     "data": {
      "text/plain": [
       "{'computer vision': 'computer-vision',\n",
       " 'cv': 'computer-vision',\n",
       " 'vision': 'computer-vision',\n",
       " 'mlops': 'mlops',\n",
       " 'production': 'mlops',\n",
       " 'natural language processing': 'natural-language-processing',\n",
       " 'nlp': 'natural-language-processing',\n",
       " 'nlproc': 'natural-language-processing'}"
      ]
     },
     "execution_count": 100,
     "metadata": {},
     "output_type": "execute_result"
    }
   ],
   "source": [
    "# Map aliases\n",
    "aliases = {}\n",
    "for tag, values in tags_dict.items():\n",
    "    aliases[clean_text(tag)] = tag\n",
    "    for alias in values[\"aliases\"]:\n",
    "        aliases[clean_text(alias)] = tag\n",
    "aliases"
   ]
  },
  {
   "cell_type": "code",
   "execution_count": 101,
   "id": "b1f6e926",
   "metadata": {},
   "outputs": [],
   "source": [
    "def get_tag(text, aliases, tags_dict):\n",
    "    \"\"\"If a text token matches an alias then add/return the corresponing tag class\n",
    "\n",
    "    Args:\n",
    "        text (str): _description_\n",
    "        aliases (_type_): _description_\n",
    "        tags_dict (dict): _description_\n",
    "    \"\"\"\n",
    "    for alias, tag in aliases.items():\n",
    "        if alias in text:\n",
    "            return tag\n",
    "    return None"
   ]
  },
  {
   "cell_type": "code",
   "execution_count": 104,
   "id": "dfd0af1d",
   "metadata": {},
   "outputs": [
    {
     "name": "stdout",
     "output_type": "stream",
     "text": [
      "natural-language-processing\n"
     ]
    }
   ],
   "source": [
    "# Sample\n",
    "text = \"A pretrained model hub for popular nlp models.\"\n",
    "print(get_tag(text=clean_text(text), aliases=aliases, tags_dict=tags_dict))"
   ]
  },
  {
   "cell_type": "code",
   "execution_count": 105,
   "id": "8605cdff",
   "metadata": {},
   "outputs": [],
   "source": [
    "# Prediction\n",
    "tags = []\n",
    "for text in X_test:\n",
    "    tag = get_tag(text, aliases, tags_dict)\n",
    "    tags.append(tag)\n"
   ]
  },
  {
   "cell_type": "code",
   "execution_count": 106,
   "id": "3ef70689",
   "metadata": {},
   "outputs": [],
   "source": [
    "# Encode labels\n",
    "y_pred = [label_encoder.class_to_index[tag] if tag is not None else -1 for tag in tags]\n"
   ]
  },
  {
   "cell_type": "code",
   "execution_count": 107,
   "id": "6a5b069b",
   "metadata": {},
   "outputs": [
    {
     "name": "stdout",
     "output_type": "stream",
     "text": [
      "{\n",
      "  \"precision\": 0.7777777777777778,\n",
      "  \"recall\": 0.13194444444444445,\n",
      "  \"f1\": 0.22560690943043882\n",
      "}\n"
     ]
    }
   ],
   "source": [
    "# Evaluate\n",
    "metrics = precision_recall_fscore_support(y_test, y_pred, average=\"weighted\")\n",
    "performance = {\"precision\": metrics[0], \"recall\": metrics[1], \"f1\": metrics[2]}\n",
    "print (json.dumps(performance, indent=2))\n"
   ]
  },
  {
   "cell_type": "markdown",
   "id": "05ee3a33",
   "metadata": {},
   "source": [
    "**How come our precision is high but our recall is so low?**\n",
    "\n",
    "Precision is high implies that most of the samples predicted as particular class are correct.\n",
    "\n",
    "Low recall implies that the out of all the predictions made for an input of a particular class, the number of misclassifications is high OR in this case, particular aliases for tags might not be used in the input signals\n",
    "\n"
   ]
  },
  {
   "cell_type": "code",
   "execution_count": 108,
   "id": "11a79f3b",
   "metadata": {},
   "outputs": [
    {
     "name": "stdout",
     "output_type": "stream",
     "text": [
      "None\n"
     ]
    }
   ],
   "source": [
    "# Pitfalls\n",
    "text = \"Transfer learning with transformers for text classification.\"\n",
    "print (get_tag(text=clean_text(text), aliases=aliases, tags_dict=tags_dict))\n"
   ]
  },
  {
   "cell_type": "markdown",
   "id": "4a960323",
   "metadata": {},
   "source": [
    "<u><i>limitations:</i></u> we failed to generalize or learn any implicit patterns to predict the labels because we treat the tokens in our input as isolated entities."
   ]
  },
  {
   "cell_type": "markdown",
   "id": "cff864a3",
   "metadata": {},
   "source": [
    "### Vectorization"
   ]
  },
  {
   "cell_type": "code",
   "execution_count": 109,
   "id": "1ded1873",
   "metadata": {},
   "outputs": [],
   "source": [
    "from sklearn.feature_extraction.text import TfidfVectorizer\n"
   ]
  },
  {
   "cell_type": "code",
   "execution_count": 110,
   "id": "ec15556b",
   "metadata": {},
   "outputs": [],
   "source": [
    "# Setup\n",
    "set_seeds()\n",
    "df = pd.DataFrame(json.load(open(\"labeled_projects.json\", \"r\")))\n",
    "df = df.sample(frac=1).reset_index(drop=True)\n",
    "df = preprocess(df, lower=True, stem=False)\n",
    "label_encoder = LabelEncoder().fit(df.tag)\n",
    "X_train, X_val, X_test, y_train, y_val, y_test = \\\n",
    "    get_data_splits(X=df.text.to_numpy(), y=label_encoder.encode(df.tag))\n"
   ]
  },
  {
   "cell_type": "code",
   "execution_count": 111,
   "id": "4cc8587b",
   "metadata": {},
   "outputs": [],
   "source": [
    "# Saving raw X_test to compare with later\n",
    "X_test_raw = X_test\n"
   ]
  },
  {
   "cell_type": "code",
   "execution_count": 112,
   "id": "eb867277",
   "metadata": {},
   "outputs": [
    {
     "name": "stdout",
     "output_type": "stream",
     "text": [
      "identifying brain tumor mri images using fastai dynamicunet use fastai unet learner identify tumours mri brain logging loss metrics neptune ai logger compare results hyperparameter tuning\n",
      "(668, 98624)\n"
     ]
    }
   ],
   "source": [
    "# Tf-idf\n",
    "vectorizer = TfidfVectorizer(analyzer=\"char\", ngram_range=(2,7))  # char n-grams\n",
    "print (X_train[0])\n",
    "X_train = vectorizer.fit_transform(X_train)\n",
    "X_val = vectorizer.transform(X_val)\n",
    "X_test = vectorizer.transform(X_test)\n",
    "print (X_train.shape)  # scipy.sparse.csr_matrix\n"
   ]
  },
  {
   "cell_type": "code",
   "execution_count": 113,
   "id": "86041d0a",
   "metadata": {},
   "outputs": [
    {
     "name": "stdout",
     "output_type": "stream",
     "text": [
      "class counts: [249  55 272  92],\n",
      "class weights: {0: 0.004016064257028112, 1: 0.01818181818181818, 2: 0.003676470588235294, 3: 0.010869565217391304}\n"
     ]
    }
   ],
   "source": [
    "# Class weights\n",
    "counts = np.bincount(y_train)\n",
    "class_weights = {i: 1.0/count for i, count in enumerate(counts)}\n",
    "print (f\"class counts: {counts},\\nclass weights: {class_weights}\")\n"
   ]
  },
  {
   "cell_type": "markdown",
   "id": "139da0ff",
   "metadata": {},
   "source": [
    "### Data Imbalance"
   ]
  },
  {
   "cell_type": "code",
   "execution_count": 115,
   "id": "ecfdd122",
   "metadata": {},
   "outputs": [
    {
     "name": "stderr",
     "output_type": "stream",
     "text": [
      "WARNING: You are using pip version 22.0.4; however, version 22.2.2 is available.\n",
      "You should consider upgrading via the 'c:\\program files\\python38\\python.exe -m pip install --upgrade pip' command.\n"
     ]
    }
   ],
   "source": [
    "!pip install imbalanced-learn==0.8.1 -q"
   ]
  },
  {
   "cell_type": "code",
   "execution_count": 116,
   "id": "3011ec29",
   "metadata": {},
   "outputs": [],
   "source": [
    "from imblearn.over_sampling import RandomOverSampler\n"
   ]
  },
  {
   "cell_type": "code",
   "execution_count": 117,
   "id": "8014c75f",
   "metadata": {},
   "outputs": [],
   "source": [
    "oversample = RandomOverSampler(sampling_strategy='all') # resample all classes\n",
    "X_over, y_over = oversample.fit_resample(X_train, y_train)"
   ]
  },
  {
   "cell_type": "markdown",
   "id": "1b56bef9",
   "metadata": {},
   "source": [
    "It's important that we applied sampling only on the train split so we don't introduce data leaks with the other data splits"
   ]
  },
  {
   "cell_type": "code",
   "execution_count": 121,
   "id": "c67b5215",
   "metadata": {},
   "outputs": [
    {
     "name": "stdout",
     "output_type": "stream",
     "text": [
      "class counts: [272 272 272 272],\n",
      "class weights: {0: 0.003676470588235294, 1: 0.003676470588235294, 2: 0.003676470588235294, 3: 0.003676470588235294}\n"
     ]
    }
   ],
   "source": [
    "# Class weights\n",
    "counts = np.bincount(y_over)\n",
    "class_weights = {i: 1.0/count for i, count in enumerate(counts)}\n",
    "print (f\"class counts: {counts},\\nclass weights: {class_weights}\")\n"
   ]
  },
  {
   "cell_type": "markdown",
   "id": "7cf4358d",
   "metadata": {},
   "source": [
    "### Machine Learning"
   ]
  },
  {
   "cell_type": "code",
   "execution_count": 123,
   "id": "240d984f",
   "metadata": {},
   "outputs": [],
   "source": [
    "from sklearn import metrics\n",
    "from sklearn.linear_model import SGDClassifier\n",
    "from sklearn.metrics import log_loss, precision_recall_fscore_support"
   ]
  },
  {
   "cell_type": "code",
   "execution_count": 124,
   "id": "7e78eb2f",
   "metadata": {},
   "outputs": [],
   "source": [
    "model = SGDClassifier(loss='log', penalty='l2', alpha=1e-4, max_iter=1, learning_rate=\"constant\", eta0=1e-1, power_t=0.1, warm_start=True)"
   ]
  },
  {
   "cell_type": "code",
   "execution_count": 125,
   "id": "537446c4",
   "metadata": {},
   "outputs": [
    {
     "name": "stdout",
     "output_type": "stream",
     "text": [
      "Epoch: 00 train_loss: 1.16565 val_loss: 1.19813\n",
      "Epoch: 10 train_loss: 0.45728 val_loss: 0.60118\n",
      "Epoch: 20 train_loss: 0.31276 val_loss: 0.49740\n",
      "Epoch: 30 train_loss: 0.24955 val_loss: 0.45547\n",
      "Epoch: 40 train_loss: 0.21508 val_loss: 0.43379\n",
      "Epoch: 50 train_loss: 0.19405 val_loss: 0.42097\n",
      "Epoch: 60 train_loss: 0.18030 val_loss: 0.41308\n",
      "Epoch: 70 train_loss: 0.17113 val_loss: 0.40796\n",
      "Epoch: 80 train_loss: 0.16461 val_loss: 0.40444\n",
      "Epoch: 90 train_loss: 0.15992 val_loss: 0.40205\n"
     ]
    }
   ],
   "source": [
    "num_epochs = 100\n",
    "for epoch in range(num_epochs):\n",
    "    model.fit(X_over, y_over)\n",
    "\n",
    "    train_loss = log_loss(y_train, model.predict_proba(X_train))\n",
    "    val_loss = log_loss(y_val, model.predict_proba(X_val))\n",
    "\n",
    "    if not epoch % 10:\n",
    "        print(f\"Epoch: {epoch:02d}\",\n",
    "              f\"train_loss: {train_loss:0.5f}\",\n",
    "              f\"val_loss: {val_loss:0.5f}\",\n",
    "              )\n"
   ]
  },
  {
   "cell_type": "code",
   "execution_count": 126,
   "id": "ed1df59c",
   "metadata": {},
   "outputs": [
    {
     "name": "stdout",
     "output_type": "stream",
     "text": [
      "{\n",
      "  \"precision\": 0.86339304503367,\n",
      "  \"recall\": 0.8611111111111112,\n",
      "  \"f1\": 0.8589332382988834\n",
      "}\n"
     ]
    }
   ],
   "source": [
    "# Evaluate\n",
    "y_pred = model.predict(X_test)\n",
    "metrics = precision_recall_fscore_support(y_test, y_pred, average=\"weighted\")\n",
    "performance = {\"precision\": metrics[0], \"recall\": metrics[1], \"f1\": metrics[2]}\n",
    "print (json.dumps(performance, indent=2))\n"
   ]
  },
  {
   "cell_type": "code",
   "execution_count": 127,
   "id": "3659d99e",
   "metadata": {},
   "outputs": [
    {
     "data": {
      "text/plain": [
       "['natural-language-processing']"
      ]
     },
     "execution_count": 127,
     "metadata": {},
     "output_type": "execute_result"
    }
   ],
   "source": [
    "# Inference (with tokens similar to training data)\n",
    "text = \"Transfer learning with transformers for text classification.\"\n",
    "y_pred = model.predict(vectorizer.transform([text]))\n",
    "label_encoder.decode(y_pred)\n"
   ]
  },
  {
   "cell_type": "code",
   "execution_count": 128,
   "id": "975c35b0",
   "metadata": {},
   "outputs": [
    {
     "data": {
      "text/plain": [
       "{'computer-vision': 0.03533671174343364,\n",
       " 'mlops': 0.004866229433854612,\n",
       " 'natural-language-processing': 0.9448683528892217,\n",
       " 'other': 0.014928705933490098}"
      ]
     },
     "execution_count": 128,
     "metadata": {},
     "output_type": "execute_result"
    }
   ],
   "source": [
    "# Probabilities\n",
    "y_prob = model.predict_proba(vectorizer.transform([text]))\n",
    "{tag:y_prob[0][i] for i, tag in enumerate(label_encoder.classes)}\n"
   ]
  },
  {
   "cell_type": "code",
   "execution_count": 129,
   "id": "f6e9d2d6",
   "metadata": {},
   "outputs": [
    {
     "data": {
      "text/plain": [
       "['natural-language-processing']"
      ]
     },
     "execution_count": 129,
     "metadata": {},
     "output_type": "execute_result"
    }
   ],
   "source": [
    "# Inference (with tokens not similar to training data)\n",
    "text = \"Interpretability methods for explaining model behavior.\"\n",
    "y_pred = model.predict(vectorizer.transform([text]))\n",
    "label_encoder.decode(y_pred)\n"
   ]
  },
  {
   "cell_type": "code",
   "execution_count": 130,
   "id": "faadf0ac",
   "metadata": {},
   "outputs": [
    {
     "data": {
      "text/plain": [
       "{'computer-vision': 0.12993126306387198,\n",
       " 'mlops': 0.07849949603775445,\n",
       " 'natural-language-processing': 0.6904508159758787,\n",
       " 'other': 0.10111842492249486}"
      ]
     },
     "execution_count": 130,
     "metadata": {},
     "output_type": "execute_result"
    }
   ],
   "source": [
    "# Probabilities\n",
    "y_prob = model.predict_proba(vectorizer.transform([text]))\n",
    "{tag:y_prob[0][i] for i, tag in enumerate(label_encoder.classes)}\n"
   ]
  },
  {
   "cell_type": "code",
   "execution_count": 134,
   "id": "693a4102",
   "metadata": {},
   "outputs": [
    {
     "name": "stdout",
     "output_type": "stream",
     "text": [
      "[2] [[0.12993126 0.0784995  0.69045082 0.10111842]]\n"
     ]
    }
   ],
   "source": [
    "print(y_pred, y_prob)"
   ]
  },
  {
   "cell_type": "code",
   "execution_count": 135,
   "id": "9db6e237",
   "metadata": {},
   "outputs": [
    {
     "data": {
      "text/plain": [
       "0.6610073518702174"
      ]
     },
     "execution_count": 135,
     "metadata": {},
     "output_type": "execute_result"
    }
   ],
   "source": [
    "\n",
    "# Determine first quantile softmax score for the correct class (on validation split)\n",
    "y_pred = model.predict(X_val)\n",
    "y_prob = model.predict_proba(X_val)\n",
    "threshold = np.quantile([y_prob[i][j] for i, j in enumerate(y_pred)], q=0.25)\n",
    "threshold"
   ]
  },
  {
   "cell_type": "code",
   "execution_count": 136,
   "id": "437b93d4",
   "metadata": {},
   "outputs": [],
   "source": [
    "# Custom predict function\n",
    "def custom_predict(y_prob, threshold, index):\n",
    "    \"\"\"Custom predict function that defaults\n",
    "    to an index if conditions are not met.\"\"\"\n",
    "    y_pred = [np.argmax(p) if max(p) > threshold else index for p in y_prob]\n",
    "    return np.array(y_pred)\n"
   ]
  },
  {
   "cell_type": "code",
   "execution_count": 137,
   "id": "0d7489cf",
   "metadata": {},
   "outputs": [],
   "source": [
    "def predict_tag(texts):\n",
    "    y_prob = model.predict_proba(vectorizer.transform(texts))\n",
    "    other_index = label_encoder.class_to_index[\"other\"]\n",
    "    y_pred = custom_predict(y_prob=y_prob, threshold=threshold, index=other_index)\n",
    "    return label_encoder.decode(y_pred)\n"
   ]
  },
  {
   "cell_type": "code",
   "execution_count": 138,
   "id": "42232836",
   "metadata": {},
   "outputs": [
    {
     "data": {
      "text/plain": [
       "['natural-language-processing']"
      ]
     },
     "execution_count": 138,
     "metadata": {},
     "output_type": "execute_result"
    }
   ],
   "source": [
    "# Inference (with tokens not similar to training data)\n",
    "text = \"Interpretability methods for explaining model behavior.\"\n",
    "predict_tag(texts=[text])\n"
   ]
  },
  {
   "cell_type": "code",
   "execution_count": 140,
   "id": "12d5a520",
   "metadata": {},
   "outputs": [
    {
     "name": "stdout",
     "output_type": "stream",
     "text": [
      "{\n",
      "  \"precision\": 0.8685798548094374,\n",
      "  \"recall\": 0.7083333333333334,\n",
      "  \"f1\": 0.7435471159850042\n",
      "}\n"
     ]
    }
   ],
   "source": [
    "# Evaluate\n",
    "y_prob = model.predict_proba(X_test)\n",
    "y_pred = custom_predict(y_prob=y_prob, threshold=threshold, index=label_encoder.class_to_index[\"other\"])\n",
    "metrics = precision_recall_fscore_support(y_test, y_pred, average=\"weighted\")\n",
    "performance = {\"precision\": metrics[0], \"recall\": metrics[1], \"f1\": metrics[2]}\n",
    "print (json.dumps(performance, indent=2))\n"
   ]
  },
  {
   "cell_type": "code",
   "execution_count": null,
   "id": "31335591",
   "metadata": {},
   "outputs": [],
   "source": []
  },
  {
   "cell_type": "code",
   "execution_count": null,
   "id": "86df0812",
   "metadata": {},
   "outputs": [],
   "source": []
  }
 ],
 "metadata": {
  "kernelspec": {
   "display_name": "Python 3.8.10 64-bit",
   "language": "python",
   "name": "python3"
  },
  "language_info": {
   "codemirror_mode": {
    "name": "ipython",
    "version": 3
   },
   "file_extension": ".py",
   "mimetype": "text/x-python",
   "name": "python",
   "nbconvert_exporter": "python",
   "pygments_lexer": "ipython3",
   "version": "3.8.10"
  },
  "vscode": {
   "interpreter": {
    "hash": "570feb405e2e27c949193ac68f46852414290d515b0ba6e5d90d076ed2284471"
   }
  }
 },
 "nbformat": 4,
 "nbformat_minor": 5
}
