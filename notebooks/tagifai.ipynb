{
 "cells": [
  {
   "cell_type": "markdown",
   "id": "90edec64-5fec-45e6-90fd-6822128b3888",
   "metadata": {},
   "source": [
    "# Data\n",
    "### Projects"
   ]
  },
  {
   "cell_type": "code",
   "execution_count": 2,
   "id": "d09043f5-0d68-4c28-b24a-492df6ec4e35",
   "metadata": {},
   "outputs": [],
   "source": [
    "from collections import Counter\n",
    "import ipywidgets as widgets\n",
    "import itertools\n",
    "import json\n",
    "import pandas as pd\n",
    "from urllib.request import urlopen"
   ]
  },
  {
   "cell_type": "code",
   "execution_count": 6,
   "id": "1a55ac30-bb34-4000-88d1-1da4684db70d",
   "metadata": {},
   "outputs": [
    {
     "name": "stdout",
     "output_type": "stream",
     "text": [
      "955 projects\n",
      "{\n",
      "  \"id\": 6,\n",
      "  \"created_on\": \"2020-02-20 06:43:18\",\n",
      "  \"title\": \"Comparison between YOLO and RCNN on real world videos\",\n",
      "  \"description\": \"Bringing theory to experiment is cool. We can easily train models in colab and find the results in minutes.\",\n",
      "  \"tag\": \"computer-vision\"\n",
      "}\n"
     ]
    }
   ],
   "source": [
    "# Load projects\n",
    "url = \"https://raw.githubusercontent.com/GokuMohandas/Made-With-ML/main/datasets/projects.json\"\n",
    "projects = json.loads(urlopen(url).read())\n",
    "print (f\"{len(projects)} projects\")\n",
    "print (json.dumps(projects[0], indent=2))"
   ]
  },
  {
   "cell_type": "code",
   "execution_count": 9,
   "id": "bdcc321e-3bf6-41d5-9e08-5e63d3f9d27f",
   "metadata": {},
   "outputs": [
    {
     "name": "stdout",
     "output_type": "stream",
     "text": [
      "955 projects\n"
     ]
    },
    {
     "data": {
      "text/html": [
       "<div>\n",
       "<style scoped>\n",
       "    .dataframe tbody tr th:only-of-type {\n",
       "        vertical-align: middle;\n",
       "    }\n",
       "\n",
       "    .dataframe tbody tr th {\n",
       "        vertical-align: top;\n",
       "    }\n",
       "\n",
       "    .dataframe thead th {\n",
       "        text-align: right;\n",
       "    }\n",
       "</style>\n",
       "<table border=\"1\" class=\"dataframe\">\n",
       "  <thead>\n",
       "    <tr style=\"text-align: right;\">\n",
       "      <th></th>\n",
       "      <th>id</th>\n",
       "      <th>created_on</th>\n",
       "      <th>title</th>\n",
       "      <th>description</th>\n",
       "      <th>tag</th>\n",
       "    </tr>\n",
       "  </thead>\n",
       "  <tbody>\n",
       "    <tr>\n",
       "      <th>0</th>\n",
       "      <td>6</td>\n",
       "      <td>2020-02-20 06:43:18</td>\n",
       "      <td>Comparison between YOLO and RCNN on real world...</td>\n",
       "      <td>Bringing theory to experiment is cool. We can ...</td>\n",
       "      <td>computer-vision</td>\n",
       "    </tr>\n",
       "    <tr>\n",
       "      <th>1</th>\n",
       "      <td>7</td>\n",
       "      <td>2020-02-20 06:47:21</td>\n",
       "      <td>Show, Infer &amp; Tell: Contextual Inference for C...</td>\n",
       "      <td>The beauty of the work lies in the way it arch...</td>\n",
       "      <td>computer-vision</td>\n",
       "    </tr>\n",
       "    <tr>\n",
       "      <th>2</th>\n",
       "      <td>9</td>\n",
       "      <td>2020-02-24 16:24:45</td>\n",
       "      <td>Awesome Graph Classification</td>\n",
       "      <td>A collection of important graph embedding, cla...</td>\n",
       "      <td>graph-learning</td>\n",
       "    </tr>\n",
       "    <tr>\n",
       "      <th>3</th>\n",
       "      <td>15</td>\n",
       "      <td>2020-02-28 23:55:26</td>\n",
       "      <td>Awesome Monte Carlo Tree Search</td>\n",
       "      <td>A curated list of Monte Carlo tree search pape...</td>\n",
       "      <td>reinforcement-learning</td>\n",
       "    </tr>\n",
       "    <tr>\n",
       "      <th>4</th>\n",
       "      <td>19</td>\n",
       "      <td>2020-03-03 13:54:31</td>\n",
       "      <td>Diffusion to Vector</td>\n",
       "      <td>Reference implementation of Diffusion2Vec (Com...</td>\n",
       "      <td>graph-learning</td>\n",
       "    </tr>\n",
       "  </tbody>\n",
       "</table>\n",
       "</div>"
      ],
      "text/plain": [
       "   id           created_on                                              title  \\\n",
       "0   6  2020-02-20 06:43:18  Comparison between YOLO and RCNN on real world...   \n",
       "1   7  2020-02-20 06:47:21  Show, Infer & Tell: Contextual Inference for C...   \n",
       "2   9  2020-02-24 16:24:45                       Awesome Graph Classification   \n",
       "3  15  2020-02-28 23:55:26                    Awesome Monte Carlo Tree Search   \n",
       "4  19  2020-03-03 13:54:31                                Diffusion to Vector   \n",
       "\n",
       "                                         description                     tag  \n",
       "0  Bringing theory to experiment is cool. We can ...         computer-vision  \n",
       "1  The beauty of the work lies in the way it arch...         computer-vision  \n",
       "2  A collection of important graph embedding, cla...          graph-learning  \n",
       "3  A curated list of Monte Carlo tree search pape...  reinforcement-learning  \n",
       "4  Reference implementation of Diffusion2Vec (Com...          graph-learning  "
      ]
     },
     "execution_count": 9,
     "metadata": {},
     "output_type": "execute_result"
    }
   ],
   "source": [
    "# Create dataframe\n",
    "df = pd.DataFrame(projects)\n",
    "print (f\"{len(df)} projects\")\n",
    "df.head(5)"
   ]
  },
  {
   "cell_type": "code",
   "execution_count": 12,
   "id": "80183c7f-14e7-421a-95a8-b7a886b564de",
   "metadata": {},
   "outputs": [],
   "source": [
    "# 1. remove projects with no tag\n",
    "df = df[df.tag.notnull()]"
   ]
  },
  {
   "cell_type": "code",
   "execution_count": 13,
   "id": "3c0ee844-175e-4a84-961e-bbbb51cfab3f",
   "metadata": {},
   "outputs": [
    {
     "data": {
      "text/plain": [
       "[('natural-language-processing', 388),\n",
       " ('computer-vision', 356),\n",
       " ('mlops', 79),\n",
       " ('reinforcement-learning', 56),\n",
       " ('graph-learning', 45),\n",
       " ('time-series', 31)]"
      ]
     },
     "execution_count": 13,
     "metadata": {},
     "output_type": "execute_result"
    }
   ],
   "source": [
    "# 2. Most common tags\n",
    "tags = Counter(df.tag.values)\n",
    "tags.most_common()"
   ]
  },
  {
   "cell_type": "markdown",
   "id": "9332a448-47cc-4e84-9e07-163cb9ba0321",
   "metadata": {},
   "source": [
    "### Tags"
   ]
  },
  {
   "cell_type": "code",
   "execution_count": 17,
   "id": "112479a3-cd55-49f9-9d66-17a1c3649559",
   "metadata": {},
   "outputs": [
    {
     "name": "stdout",
     "output_type": "stream",
     "text": [
      "4 tags\n"
     ]
    }
   ],
   "source": [
    "# Load tags\n",
    "url = \"https://raw.githubusercontent.com/GokuMohandas/Made-With-ML/main/datasets/tags.json\"\n",
    "tags_dict = {}\n",
    "for item in json.loads(urlopen(url).read()):\n",
    "    key = item.pop(\"tag\")\n",
    "    tags_dict[key] = item\n",
    "print (f\"{len(tags_dict)} tags\")\n"
   ]
  },
  {
   "cell_type": "code",
   "execution_count": 18,
   "id": "9c92bffe-8009-4101-ab11-b9a038f94265",
   "metadata": {},
   "outputs": [
    {
     "data": {
      "application/vnd.jupyter.widget-view+json": {
       "model_id": "12926dbfaa92474f8b89872c67993e1c",
       "version_major": 2,
       "version_minor": 0
      },
      "text/plain": [
       "interactive(children=(Dropdown(description='tag', options=('computer-vision', 'graph-learning', 'mlops', 'natu…"
      ]
     },
     "metadata": {},
     "output_type": "display_data"
    }
   ],
   "source": [
    "@widgets.interact(tag=list(tags_dict.keys()))\n",
    "def display_tag_details(tag=\"computer-vision\"):\n",
    "    print (json.dumps(tags_dict[tag], indent=2))\n"
   ]
  },
  {
   "cell_type": "code",
   "execution_count": 23,
   "id": "5391e66d-ea27-43b8-848f-63215eeacc4c",
   "metadata": {},
   "outputs": [],
   "source": [
    "import matplotlib.pyplot as plt\n",
    "import seaborn as sns\n",
    "import warnings\n",
    "from wordcloud import WordCloud, STOPWORDS\n",
    "sns.set_theme()\n",
    "warnings.filterwarnings(\"ignore\")"
   ]
  },
  {
   "cell_type": "markdown",
   "id": "009836a2-f1fc-4b21-9510-444c07ddfa55",
   "metadata": {},
   "source": [
    "## Tag Distribution"
   ]
  },
  {
   "cell_type": "code",
   "execution_count": 29,
   "id": "b89542fe-88ce-457d-b64e-a2840f08af07",
   "metadata": {},
   "outputs": [
    {
     "data": {
      "image/png": "[encoded data removed]",
      "text/plain": [
       "<Figure size 720x216 with 1 Axes>"
      ]
     },
     "metadata": {},
     "output_type": "display_data"
    }
   ],
   "source": [
    "tags, tag_counts = zip(*Counter(df.tag.values).most_common())\n",
    "plt.figure(figsize=(10, 3))\n",
    "ax = sns.barplot(list(tags), list(tag_counts))\n",
    "plt.title(\"Tag distribution\", fontsize=20)\n",
    "plt.xlabel(\"Tag\", fontsize=16)\n",
    "ax.set_xticklabels(tags, rotation=90, fontsize=14)\n",
    "plt.ylabel(\"Number of projects\", fontsize=16)\n",
    "plt.show()"
   ]
  },
  {
   "cell_type": "markdown",
   "id": "4602d206-8e45-429d-9623-6f39d8b2d843",
   "metadata": {},
   "source": [
    "### Wordcloud"
   ]
  },
  {
   "cell_type": "code",
   "execution_count": 31,
   "id": "9c093183-7b0d-4fd1-850e-4ee6036f5273",
   "metadata": {},
   "outputs": [
    {
     "data": {
      "application/vnd.jupyter.widget-view+json": {
       "model_id": "584a0f0625f24d07b42deca4ef16f8f9",
       "version_major": 2,
       "version_minor": 0
      },
      "text/plain": [
       "interactive(children=(Dropdown(description='tag', options=('natural-language-processing', 'computer-vision', '…"
      ]
     },
     "metadata": {},
     "output_type": "display_data"
    }
   ],
   "source": [
    "@widgets.interact(tag=list(tags))\n",
    "def display_word_cloud(tag=\"natural-language-processing\"):\n",
    "    plt.figure(figsize=(15, 5))\n",
    "    subset = df[df.tag == tag]\n",
    "    text = subset.title.values\n",
    "    cloud = WordCloud(\n",
    "        stopwords=STOPWORDS, background_color=\"black\", collocations=False,\n",
    "        width=500, height=300).generate(\" \".join(text))\n",
    "    plt.axis(\"off\")\n",
    "    plt.imshow(cloud)\n",
    "    "
   ]
  },
  {
   "cell_type": "code",
   "execution_count": null,
   "id": "490ecc0c-7da3-4d0a-846b-f7121d41bce8",
   "metadata": {},
   "outputs": [],
   "source": []
  }
 ],
 "metadata": {
  "kernelspec": {
   "display_name": "Python 3",
   "language": "python",
   "name": "python3"
  },
  "language_info": {
   "codemirror_mode": {
    "name": "ipython",
    "version": 3
   },
   "file_extension": ".py",
   "mimetype": "text/x-python",
   "name": "python",
   "nbconvert_exporter": "python",
   "pygments_lexer": "ipython3",
   "version": "3.8.5"
  }
 },
 "nbformat": 4,
 "nbformat_minor": 5
}
